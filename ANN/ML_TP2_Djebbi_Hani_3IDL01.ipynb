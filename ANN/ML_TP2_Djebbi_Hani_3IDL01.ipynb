{
  "nbformat": 4,
  "nbformat_minor": 0,
  "metadata": {
    "colab": {
      "provenance": []
    },
    "kernelspec": {
      "name": "python3",
      "display_name": "Python 3"
    },
    "language_info": {
      "name": "python"
    }
  },
  "cells": [
    {
      "cell_type": "code",
      "execution_count": null,
      "metadata": {
        "id": "bogqdoIxr57V"
      },
      "outputs": [],
      "source": [
        "#imports\n",
        "import pandas as pd\n",
        "import numpy as np\n",
        "import matplotlib.pyplot as plt\n",
        "import seaborn as sns\n",
        "import random\n",
        "from sklearn.neural_network import MLPClassifier,MLPRegressor\n",
        "from sklearn import metrics"
      ]
    },
    {
      "cell_type": "code",
      "source": [
        "#1-load data from the Iris.csv file\n",
        "data = pd.read_csv(\"Iris.csv\")\n",
        "data = data.reset_index()"
      ],
      "metadata": {
        "id": "BVcsFGWq4Yo1"
      },
      "execution_count": null,
      "outputs": []
    },
    {
      "cell_type": "code",
      "source": [
        "data.head(10)"
      ],
      "metadata": {
        "colab": {
          "base_uri": "https://localhost:8080/",
          "height": 363
        },
        "id": "caUdehI44nAu",
        "outputId": "4f47a8f1-ee2f-47be-e43e-b11c0a36752f"
      },
      "execution_count": null,
      "outputs": [
        {
          "output_type": "execute_result",
          "data": {
            "text/plain": [
              "   index  Id  SepalLengthCm  SepalWidthCm  PetalLengthCm  PetalWidthCm  \\\n",
              "0      0   1            5.1           3.5            1.4           0.2   \n",
              "1      1   2            4.9           3.0            1.4           0.2   \n",
              "2      2   3            4.7           3.2            1.3           0.2   \n",
              "3      3   4            4.6           3.1            1.5           0.2   \n",
              "4      4   5            5.0           3.6            1.4           0.2   \n",
              "5      5   6            5.4           3.9            1.7           0.4   \n",
              "6      6   7            4.6           3.4            1.4           0.3   \n",
              "7      7   8            5.0           3.4            1.5           0.2   \n",
              "8      8   9            4.4           2.9            1.4           0.2   \n",
              "9      9  10            4.9           3.1            1.5           0.1   \n",
              "\n",
              "       Species  \n",
              "0  Iris-setosa  \n",
              "1  Iris-setosa  \n",
              "2  Iris-setosa  \n",
              "3  Iris-setosa  \n",
              "4  Iris-setosa  \n",
              "5  Iris-setosa  \n",
              "6  Iris-setosa  \n",
              "7  Iris-setosa  \n",
              "8  Iris-setosa  \n",
              "9  Iris-setosa  "
            ],
            "text/html": [
              "\n",
              "  <div id=\"df-04b524c3-57ff-4a66-b5c2-f42ff8e015a2\">\n",
              "    <div class=\"colab-df-container\">\n",
              "      <div>\n",
              "<style scoped>\n",
              "    .dataframe tbody tr th:only-of-type {\n",
              "        vertical-align: middle;\n",
              "    }\n",
              "\n",
              "    .dataframe tbody tr th {\n",
              "        vertical-align: top;\n",
              "    }\n",
              "\n",
              "    .dataframe thead th {\n",
              "        text-align: right;\n",
              "    }\n",
              "</style>\n",
              "<table border=\"1\" class=\"dataframe\">\n",
              "  <thead>\n",
              "    <tr style=\"text-align: right;\">\n",
              "      <th></th>\n",
              "      <th>index</th>\n",
              "      <th>Id</th>\n",
              "      <th>SepalLengthCm</th>\n",
              "      <th>SepalWidthCm</th>\n",
              "      <th>PetalLengthCm</th>\n",
              "      <th>PetalWidthCm</th>\n",
              "      <th>Species</th>\n",
              "    </tr>\n",
              "  </thead>\n",
              "  <tbody>\n",
              "    <tr>\n",
              "      <th>0</th>\n",
              "      <td>0</td>\n",
              "      <td>1</td>\n",
              "      <td>5.1</td>\n",
              "      <td>3.5</td>\n",
              "      <td>1.4</td>\n",
              "      <td>0.2</td>\n",
              "      <td>Iris-setosa</td>\n",
              "    </tr>\n",
              "    <tr>\n",
              "      <th>1</th>\n",
              "      <td>1</td>\n",
              "      <td>2</td>\n",
              "      <td>4.9</td>\n",
              "      <td>3.0</td>\n",
              "      <td>1.4</td>\n",
              "      <td>0.2</td>\n",
              "      <td>Iris-setosa</td>\n",
              "    </tr>\n",
              "    <tr>\n",
              "      <th>2</th>\n",
              "      <td>2</td>\n",
              "      <td>3</td>\n",
              "      <td>4.7</td>\n",
              "      <td>3.2</td>\n",
              "      <td>1.3</td>\n",
              "      <td>0.2</td>\n",
              "      <td>Iris-setosa</td>\n",
              "    </tr>\n",
              "    <tr>\n",
              "      <th>3</th>\n",
              "      <td>3</td>\n",
              "      <td>4</td>\n",
              "      <td>4.6</td>\n",
              "      <td>3.1</td>\n",
              "      <td>1.5</td>\n",
              "      <td>0.2</td>\n",
              "      <td>Iris-setosa</td>\n",
              "    </tr>\n",
              "    <tr>\n",
              "      <th>4</th>\n",
              "      <td>4</td>\n",
              "      <td>5</td>\n",
              "      <td>5.0</td>\n",
              "      <td>3.6</td>\n",
              "      <td>1.4</td>\n",
              "      <td>0.2</td>\n",
              "      <td>Iris-setosa</td>\n",
              "    </tr>\n",
              "    <tr>\n",
              "      <th>5</th>\n",
              "      <td>5</td>\n",
              "      <td>6</td>\n",
              "      <td>5.4</td>\n",
              "      <td>3.9</td>\n",
              "      <td>1.7</td>\n",
              "      <td>0.4</td>\n",
              "      <td>Iris-setosa</td>\n",
              "    </tr>\n",
              "    <tr>\n",
              "      <th>6</th>\n",
              "      <td>6</td>\n",
              "      <td>7</td>\n",
              "      <td>4.6</td>\n",
              "      <td>3.4</td>\n",
              "      <td>1.4</td>\n",
              "      <td>0.3</td>\n",
              "      <td>Iris-setosa</td>\n",
              "    </tr>\n",
              "    <tr>\n",
              "      <th>7</th>\n",
              "      <td>7</td>\n",
              "      <td>8</td>\n",
              "      <td>5.0</td>\n",
              "      <td>3.4</td>\n",
              "      <td>1.5</td>\n",
              "      <td>0.2</td>\n",
              "      <td>Iris-setosa</td>\n",
              "    </tr>\n",
              "    <tr>\n",
              "      <th>8</th>\n",
              "      <td>8</td>\n",
              "      <td>9</td>\n",
              "      <td>4.4</td>\n",
              "      <td>2.9</td>\n",
              "      <td>1.4</td>\n",
              "      <td>0.2</td>\n",
              "      <td>Iris-setosa</td>\n",
              "    </tr>\n",
              "    <tr>\n",
              "      <th>9</th>\n",
              "      <td>9</td>\n",
              "      <td>10</td>\n",
              "      <td>4.9</td>\n",
              "      <td>3.1</td>\n",
              "      <td>1.5</td>\n",
              "      <td>0.1</td>\n",
              "      <td>Iris-setosa</td>\n",
              "    </tr>\n",
              "  </tbody>\n",
              "</table>\n",
              "</div>\n",
              "      <button class=\"colab-df-convert\" onclick=\"convertToInteractive('df-04b524c3-57ff-4a66-b5c2-f42ff8e015a2')\"\n",
              "              title=\"Convert this dataframe to an interactive table.\"\n",
              "              style=\"display:none;\">\n",
              "        \n",
              "  <svg xmlns=\"http://www.w3.org/2000/svg\" height=\"24px\"viewBox=\"0 0 24 24\"\n",
              "       width=\"24px\">\n",
              "    <path d=\"M0 0h24v24H0V0z\" fill=\"none\"/>\n",
              "    <path d=\"M18.56 5.44l.94 2.06.94-2.06 2.06-.94-2.06-.94-.94-2.06-.94 2.06-2.06.94zm-11 1L8.5 8.5l.94-2.06 2.06-.94-2.06-.94L8.5 2.5l-.94 2.06-2.06.94zm10 10l.94 2.06.94-2.06 2.06-.94-2.06-.94-.94-2.06-.94 2.06-2.06.94z\"/><path d=\"M17.41 7.96l-1.37-1.37c-.4-.4-.92-.59-1.43-.59-.52 0-1.04.2-1.43.59L10.3 9.45l-7.72 7.72c-.78.78-.78 2.05 0 2.83L4 21.41c.39.39.9.59 1.41.59.51 0 1.02-.2 1.41-.59l7.78-7.78 2.81-2.81c.8-.78.8-2.07 0-2.86zM5.41 20L4 18.59l7.72-7.72 1.47 1.35L5.41 20z\"/>\n",
              "  </svg>\n",
              "      </button>\n",
              "      \n",
              "  <style>\n",
              "    .colab-df-container {\n",
              "      display:flex;\n",
              "      flex-wrap:wrap;\n",
              "      gap: 12px;\n",
              "    }\n",
              "\n",
              "    .colab-df-convert {\n",
              "      background-color: #E8F0FE;\n",
              "      border: none;\n",
              "      border-radius: 50%;\n",
              "      cursor: pointer;\n",
              "      display: none;\n",
              "      fill: #1967D2;\n",
              "      height: 32px;\n",
              "      padding: 0 0 0 0;\n",
              "      width: 32px;\n",
              "    }\n",
              "\n",
              "    .colab-df-convert:hover {\n",
              "      background-color: #E2EBFA;\n",
              "      box-shadow: 0px 1px 2px rgba(60, 64, 67, 0.3), 0px 1px 3px 1px rgba(60, 64, 67, 0.15);\n",
              "      fill: #174EA6;\n",
              "    }\n",
              "\n",
              "    [theme=dark] .colab-df-convert {\n",
              "      background-color: #3B4455;\n",
              "      fill: #D2E3FC;\n",
              "    }\n",
              "\n",
              "    [theme=dark] .colab-df-convert:hover {\n",
              "      background-color: #434B5C;\n",
              "      box-shadow: 0px 1px 3px 1px rgba(0, 0, 0, 0.15);\n",
              "      filter: drop-shadow(0px 1px 2px rgba(0, 0, 0, 0.3));\n",
              "      fill: #FFFFFF;\n",
              "    }\n",
              "  </style>\n",
              "\n",
              "      <script>\n",
              "        const buttonEl =\n",
              "          document.querySelector('#df-04b524c3-57ff-4a66-b5c2-f42ff8e015a2 button.colab-df-convert');\n",
              "        buttonEl.style.display =\n",
              "          google.colab.kernel.accessAllowed ? 'block' : 'none';\n",
              "\n",
              "        async function convertToInteractive(key) {\n",
              "          const element = document.querySelector('#df-04b524c3-57ff-4a66-b5c2-f42ff8e015a2');\n",
              "          const dataTable =\n",
              "            await google.colab.kernel.invokeFunction('convertToInteractive',\n",
              "                                                     [key], {});\n",
              "          if (!dataTable) return;\n",
              "\n",
              "          const docLinkHtml = 'Like what you see? Visit the ' +\n",
              "            '<a target=\"_blank\" href=https://colab.research.google.com/notebooks/data_table.ipynb>data table notebook</a>'\n",
              "            + ' to learn more about interactive tables.';\n",
              "          element.innerHTML = '';\n",
              "          dataTable['output_type'] = 'display_data';\n",
              "          await google.colab.output.renderOutput(dataTable, element);\n",
              "          const docLink = document.createElement('div');\n",
              "          docLink.innerHTML = docLinkHtml;\n",
              "          element.appendChild(docLink);\n",
              "        }\n",
              "      </script>\n",
              "    </div>\n",
              "  </div>\n",
              "  "
            ]
          },
          "metadata": {},
          "execution_count": 21
        }
      ]
    },
    {
      "cell_type": "code",
      "source": [
        "data.shape"
      ],
      "metadata": {
        "colab": {
          "base_uri": "https://localhost:8080/"
        },
        "id": "JryKWmmf4zWl",
        "outputId": "bdff4207-960a-410f-c6d1-a59f169c50ba"
      },
      "execution_count": null,
      "outputs": [
        {
          "output_type": "execute_result",
          "data": {
            "text/plain": [
              "(150, 7)"
            ]
          },
          "metadata": {},
          "execution_count": 4
        }
      ]
    },
    {
      "cell_type": "code",
      "source": [
        "sns.pairplot( data=data, vars=('SepalWidthCm','PetalLengthCm'), hue='Species' )"
      ],
      "metadata": {
        "colab": {
          "base_uri": "https://localhost:8080/",
          "height": 391
        },
        "id": "qqxag9C64z9F",
        "outputId": "547cf122-0347-4194-87d2-990a612e9cca"
      },
      "execution_count": null,
      "outputs": [
        {
          "output_type": "execute_result",
          "data": {
            "text/plain": [
              "<seaborn.axisgrid.PairGrid at 0x7f4765cc1a00>"
            ]
          },
          "metadata": {},
          "execution_count": 5
        },
        {
          "output_type": "display_data",
          "data": {
            "text/plain": [
              "<Figure size 463.25x360 with 6 Axes>"
            ],
            "image/png": "[encoded data removed]"
          },
          "metadata": {
            "needs_background": "light"
          }
        }
      ]
    },
    {
      "cell_type": "markdown",
      "source": [
        "## from these graphs we can see that there is few Noisy data(around 3 records)"
      ],
      "metadata": {
        "id": "zteGX_aW90zQ"
      }
    },
    {
      "cell_type": "code",
      "source": [
        "target = data[['Species']].replace(['Iris-setosa','Iris-versicolor','Iris-virginica'],['0','1','2'])\n",
        "data = pd.concat([data[['SepalLengthCm', 'SepalWidthCm', 'PetalLengthCm', 'PetalWidthCm']], target], axis=1)"
      ],
      "metadata": {
        "id": "7y6ZYlJFOCtT"
      },
      "execution_count": null,
      "outputs": []
    },
    {
      "cell_type": "code",
      "source": [
        "data.head(10)"
      ],
      "metadata": {
        "colab": {
          "base_uri": "https://localhost:8080/",
          "height": 363
        },
        "id": "XLazElqtQ4Mr",
        "outputId": "64882b98-dd50-480d-c0b1-845c6a07927e"
      },
      "execution_count": null,
      "outputs": [
        {
          "output_type": "execute_result",
          "data": {
            "text/plain": [
              "   SepalLengthCm  SepalWidthCm  PetalLengthCm  PetalWidthCm Species\n",
              "0            5.1           3.5            1.4           0.2       0\n",
              "1            4.9           3.0            1.4           0.2       0\n",
              "2            4.7           3.2            1.3           0.2       0\n",
              "3            4.6           3.1            1.5           0.2       0\n",
              "4            5.0           3.6            1.4           0.2       0\n",
              "5            5.4           3.9            1.7           0.4       0\n",
              "6            4.6           3.4            1.4           0.3       0\n",
              "7            5.0           3.4            1.5           0.2       0\n",
              "8            4.4           2.9            1.4           0.2       0\n",
              "9            4.9           3.1            1.5           0.1       0"
            ],
            "text/html": [
              "\n",
              "  <div id=\"df-0f7c4ad4-7c16-45de-88a0-1c9dd06fbd06\">\n",
              "    <div class=\"colab-df-container\">\n",
              "      <div>\n",
              "<style scoped>\n",
              "    .dataframe tbody tr th:only-of-type {\n",
              "        vertical-align: middle;\n",
              "    }\n",
              "\n",
              "    .dataframe tbody tr th {\n",
              "        vertical-align: top;\n",
              "    }\n",
              "\n",
              "    .dataframe thead th {\n",
              "        text-align: right;\n",
              "    }\n",
              "</style>\n",
              "<table border=\"1\" class=\"dataframe\">\n",
              "  <thead>\n",
              "    <tr style=\"text-align: right;\">\n",
              "      <th></th>\n",
              "      <th>SepalLengthCm</th>\n",
              "      <th>SepalWidthCm</th>\n",
              "      <th>PetalLengthCm</th>\n",
              "      <th>PetalWidthCm</th>\n",
              "      <th>Species</th>\n",
              "    </tr>\n",
              "  </thead>\n",
              "  <tbody>\n",
              "    <tr>\n",
              "      <th>0</th>\n",
              "      <td>5.1</td>\n",
              "      <td>3.5</td>\n",
              "      <td>1.4</td>\n",
              "      <td>0.2</td>\n",
              "      <td>0</td>\n",
              "    </tr>\n",
              "    <tr>\n",
              "      <th>1</th>\n",
              "      <td>4.9</td>\n",
              "      <td>3.0</td>\n",
              "      <td>1.4</td>\n",
              "      <td>0.2</td>\n",
              "      <td>0</td>\n",
              "    </tr>\n",
              "    <tr>\n",
              "      <th>2</th>\n",
              "      <td>4.7</td>\n",
              "      <td>3.2</td>\n",
              "      <td>1.3</td>\n",
              "      <td>0.2</td>\n",
              "      <td>0</td>\n",
              "    </tr>\n",
              "    <tr>\n",
              "      <th>3</th>\n",
              "      <td>4.6</td>\n",
              "      <td>3.1</td>\n",
              "      <td>1.5</td>\n",
              "      <td>0.2</td>\n",
              "      <td>0</td>\n",
              "    </tr>\n",
              "    <tr>\n",
              "      <th>4</th>\n",
              "      <td>5.0</td>\n",
              "      <td>3.6</td>\n",
              "      <td>1.4</td>\n",
              "      <td>0.2</td>\n",
              "      <td>0</td>\n",
              "    </tr>\n",
              "    <tr>\n",
              "      <th>5</th>\n",
              "      <td>5.4</td>\n",
              "      <td>3.9</td>\n",
              "      <td>1.7</td>\n",
              "      <td>0.4</td>\n",
              "      <td>0</td>\n",
              "    </tr>\n",
              "    <tr>\n",
              "      <th>6</th>\n",
              "      <td>4.6</td>\n",
              "      <td>3.4</td>\n",
              "      <td>1.4</td>\n",
              "      <td>0.3</td>\n",
              "      <td>0</td>\n",
              "    </tr>\n",
              "    <tr>\n",
              "      <th>7</th>\n",
              "      <td>5.0</td>\n",
              "      <td>3.4</td>\n",
              "      <td>1.5</td>\n",
              "      <td>0.2</td>\n",
              "      <td>0</td>\n",
              "    </tr>\n",
              "    <tr>\n",
              "      <th>8</th>\n",
              "      <td>4.4</td>\n",
              "      <td>2.9</td>\n",
              "      <td>1.4</td>\n",
              "      <td>0.2</td>\n",
              "      <td>0</td>\n",
              "    </tr>\n",
              "    <tr>\n",
              "      <th>9</th>\n",
              "      <td>4.9</td>\n",
              "      <td>3.1</td>\n",
              "      <td>1.5</td>\n",
              "      <td>0.1</td>\n",
              "      <td>0</td>\n",
              "    </tr>\n",
              "  </tbody>\n",
              "</table>\n",
              "</div>\n",
              "      <button class=\"colab-df-convert\" onclick=\"convertToInteractive('df-0f7c4ad4-7c16-45de-88a0-1c9dd06fbd06')\"\n",
              "              title=\"Convert this dataframe to an interactive table.\"\n",
              "              style=\"display:none;\">\n",
              "        \n",
              "  <svg xmlns=\"http://www.w3.org/2000/svg\" height=\"24px\"viewBox=\"0 0 24 24\"\n",
              "       width=\"24px\">\n",
              "    <path d=\"M0 0h24v24H0V0z\" fill=\"none\"/>\n",
              "    <path d=\"M18.56 5.44l.94 2.06.94-2.06 2.06-.94-2.06-.94-.94-2.06-.94 2.06-2.06.94zm-11 1L8.5 8.5l.94-2.06 2.06-.94-2.06-.94L8.5 2.5l-.94 2.06-2.06.94zm10 10l.94 2.06.94-2.06 2.06-.94-2.06-.94-.94-2.06-.94 2.06-2.06.94z\"/><path d=\"M17.41 7.96l-1.37-1.37c-.4-.4-.92-.59-1.43-.59-.52 0-1.04.2-1.43.59L10.3 9.45l-7.72 7.72c-.78.78-.78 2.05 0 2.83L4 21.41c.39.39.9.59 1.41.59.51 0 1.02-.2 1.41-.59l7.78-7.78 2.81-2.81c.8-.78.8-2.07 0-2.86zM5.41 20L4 18.59l7.72-7.72 1.47 1.35L5.41 20z\"/>\n",
              "  </svg>\n",
              "      </button>\n",
              "      \n",
              "  <style>\n",
              "    .colab-df-container {\n",
              "      display:flex;\n",
              "      flex-wrap:wrap;\n",
              "      gap: 12px;\n",
              "    }\n",
              "\n",
              "    .colab-df-convert {\n",
              "      background-color: #E8F0FE;\n",
              "      border: none;\n",
              "      border-radius: 50%;\n",
              "      cursor: pointer;\n",
              "      display: none;\n",
              "      fill: #1967D2;\n",
              "      height: 32px;\n",
              "      padding: 0 0 0 0;\n",
              "      width: 32px;\n",
              "    }\n",
              "\n",
              "    .colab-df-convert:hover {\n",
              "      background-color: #E2EBFA;\n",
              "      box-shadow: 0px 1px 2px rgba(60, 64, 67, 0.3), 0px 1px 3px 1px rgba(60, 64, 67, 0.15);\n",
              "      fill: #174EA6;\n",
              "    }\n",
              "\n",
              "    [theme=dark] .colab-df-convert {\n",
              "      background-color: #3B4455;\n",
              "      fill: #D2E3FC;\n",
              "    }\n",
              "\n",
              "    [theme=dark] .colab-df-convert:hover {\n",
              "      background-color: #434B5C;\n",
              "      box-shadow: 0px 1px 3px 1px rgba(0, 0, 0, 0.15);\n",
              "      filter: drop-shadow(0px 1px 2px rgba(0, 0, 0, 0.3));\n",
              "      fill: #FFFFFF;\n",
              "    }\n",
              "  </style>\n",
              "\n",
              "      <script>\n",
              "        const buttonEl =\n",
              "          document.querySelector('#df-0f7c4ad4-7c16-45de-88a0-1c9dd06fbd06 button.colab-df-convert');\n",
              "        buttonEl.style.display =\n",
              "          google.colab.kernel.accessAllowed ? 'block' : 'none';\n",
              "\n",
              "        async function convertToInteractive(key) {\n",
              "          const element = document.querySelector('#df-0f7c4ad4-7c16-45de-88a0-1c9dd06fbd06');\n",
              "          const dataTable =\n",
              "            await google.colab.kernel.invokeFunction('convertToInteractive',\n",
              "                                                     [key], {});\n",
              "          if (!dataTable) return;\n",
              "\n",
              "          const docLinkHtml = 'Like what you see? Visit the ' +\n",
              "            '<a target=\"_blank\" href=https://colab.research.google.com/notebooks/data_table.ipynb>data table notebook</a>'\n",
              "            + ' to learn more about interactive tables.';\n",
              "          element.innerHTML = '';\n",
              "          dataTable['output_type'] = 'display_data';\n",
              "          await google.colab.output.renderOutput(dataTable, element);\n",
              "          const docLink = document.createElement('div');\n",
              "          docLink.innerHTML = docLinkHtml;\n",
              "          element.appendChild(docLink);\n",
              "        }\n",
              "      </script>\n",
              "    </div>\n",
              "  </div>\n",
              "  "
            ]
          },
          "metadata": {},
          "execution_count": 7
        }
      ]
    },
    {
      "cell_type": "markdown",
      "source": [
        "lets say that:\n",
        "<br>\n",
        "**0 is train**\n",
        "<br>\n",
        "**1 is test**\n",
        "<br>\n",
        "\n",
        "the idea here is to go through all the records in the dataset and for each record we flip a coin if it is 0 then that record goes to the train dataset if it is 1 then the record goes to the test dataset but the coin want be fair it will be a magic coin where the probability of getting 0 is 70% and getting 1 is 30%."
      ],
      "metadata": {
        "id": "5XiQUy1XSaV0"
      }
    },
    {
      "cell_type": "code",
      "source": [
        "train_data = pd.DataFrame()\n",
        "test_data = pd.DataFrame()\n",
        "for i in range(len(data)):\n",
        "  c= random.choices(population=[0,1],weights=[70,30],k=1)\n",
        "  if c[0]==0:\n",
        "    train_data=train_data.append(data.loc[i])\n",
        "  else:\n",
        "    test_data=test_data.append(data.loc[i])\n",
        "train_data['Species'] = train_data['Species'].astype(int)\n",
        "test_data['Species'] = test_data['Species'].astype(int)"
      ],
      "metadata": {
        "id": "4V-u0SWeRUKi"
      },
      "execution_count": null,
      "outputs": []
    },
    {
      "cell_type": "code",
      "source": [
        "print(len(test_data))\n",
        "print(len(train_data))\n"
      ],
      "metadata": {
        "colab": {
          "base_uri": "https://localhost:8080/"
        },
        "id": "q1_9bTsOZlf6",
        "outputId": "7f0e497f-21ba-4fe7-9f1d-4968079f7ab1"
      },
      "execution_count": null,
      "outputs": [
        {
          "output_type": "stream",
          "name": "stdout",
          "text": [
            "48\n",
            "102\n"
          ]
        }
      ]
    },
    {
      "cell_type": "code",
      "source": [
        "test_data.head(10)\n"
      ],
      "metadata": {
        "colab": {
          "base_uri": "https://localhost:8080/",
          "height": 363
        },
        "id": "XyqAnV8DaoBx",
        "outputId": "bd17dfd9-7a32-43d4-9180-477afa4e6b62"
      },
      "execution_count": null,
      "outputs": [
        {
          "output_type": "execute_result",
          "data": {
            "text/plain": [
              "    SepalLengthCm  SepalWidthCm  PetalLengthCm  PetalWidthCm  Species\n",
              "1             4.9           3.0            1.4           0.2        0\n",
              "4             5.0           3.6            1.4           0.2        0\n",
              "11            4.8           3.4            1.6           0.2        0\n",
              "12            4.8           3.0            1.4           0.1        0\n",
              "16            5.4           3.9            1.3           0.4        0\n",
              "18            5.7           3.8            1.7           0.3        0\n",
              "21            5.1           3.7            1.5           0.4        0\n",
              "22            4.6           3.6            1.0           0.2        0\n",
              "23            5.1           3.3            1.7           0.5        0\n",
              "26            5.0           3.4            1.6           0.4        0"
            ],
            "text/html": [
              "\n",
              "  <div id=\"df-f51684f4-4d6b-49b2-a76f-ebd6dbec4b74\">\n",
              "    <div class=\"colab-df-container\">\n",
              "      <div>\n",
              "<style scoped>\n",
              "    .dataframe tbody tr th:only-of-type {\n",
              "        vertical-align: middle;\n",
              "    }\n",
              "\n",
              "    .dataframe tbody tr th {\n",
              "        vertical-align: top;\n",
              "    }\n",
              "\n",
              "    .dataframe thead th {\n",
              "        text-align: right;\n",
              "    }\n",
              "</style>\n",
              "<table border=\"1\" class=\"dataframe\">\n",
              "  <thead>\n",
              "    <tr style=\"text-align: right;\">\n",
              "      <th></th>\n",
              "      <th>SepalLengthCm</th>\n",
              "      <th>SepalWidthCm</th>\n",
              "      <th>PetalLengthCm</th>\n",
              "      <th>PetalWidthCm</th>\n",
              "      <th>Species</th>\n",
              "    </tr>\n",
              "  </thead>\n",
              "  <tbody>\n",
              "    <tr>\n",
              "      <th>1</th>\n",
              "      <td>4.9</td>\n",
              "      <td>3.0</td>\n",
              "      <td>1.4</td>\n",
              "      <td>0.2</td>\n",
              "      <td>0</td>\n",
              "    </tr>\n",
              "    <tr>\n",
              "      <th>4</th>\n",
              "      <td>5.0</td>\n",
              "      <td>3.6</td>\n",
              "      <td>1.4</td>\n",
              "      <td>0.2</td>\n",
              "      <td>0</td>\n",
              "    </tr>\n",
              "    <tr>\n",
              "      <th>11</th>\n",
              "      <td>4.8</td>\n",
              "      <td>3.4</td>\n",
              "      <td>1.6</td>\n",
              "      <td>0.2</td>\n",
              "      <td>0</td>\n",
              "    </tr>\n",
              "    <tr>\n",
              "      <th>12</th>\n",
              "      <td>4.8</td>\n",
              "      <td>3.0</td>\n",
              "      <td>1.4</td>\n",
              "      <td>0.1</td>\n",
              "      <td>0</td>\n",
              "    </tr>\n",
              "    <tr>\n",
              "      <th>16</th>\n",
              "      <td>5.4</td>\n",
              "      <td>3.9</td>\n",
              "      <td>1.3</td>\n",
              "      <td>0.4</td>\n",
              "      <td>0</td>\n",
              "    </tr>\n",
              "    <tr>\n",
              "      <th>18</th>\n",
              "      <td>5.7</td>\n",
              "      <td>3.8</td>\n",
              "      <td>1.7</td>\n",
              "      <td>0.3</td>\n",
              "      <td>0</td>\n",
              "    </tr>\n",
              "    <tr>\n",
              "      <th>21</th>\n",
              "      <td>5.1</td>\n",
              "      <td>3.7</td>\n",
              "      <td>1.5</td>\n",
              "      <td>0.4</td>\n",
              "      <td>0</td>\n",
              "    </tr>\n",
              "    <tr>\n",
              "      <th>22</th>\n",
              "      <td>4.6</td>\n",
              "      <td>3.6</td>\n",
              "      <td>1.0</td>\n",
              "      <td>0.2</td>\n",
              "      <td>0</td>\n",
              "    </tr>\n",
              "    <tr>\n",
              "      <th>23</th>\n",
              "      <td>5.1</td>\n",
              "      <td>3.3</td>\n",
              "      <td>1.7</td>\n",
              "      <td>0.5</td>\n",
              "      <td>0</td>\n",
              "    </tr>\n",
              "    <tr>\n",
              "      <th>26</th>\n",
              "      <td>5.0</td>\n",
              "      <td>3.4</td>\n",
              "      <td>1.6</td>\n",
              "      <td>0.4</td>\n",
              "      <td>0</td>\n",
              "    </tr>\n",
              "  </tbody>\n",
              "</table>\n",
              "</div>\n",
              "      <button class=\"colab-df-convert\" onclick=\"convertToInteractive('df-f51684f4-4d6b-49b2-a76f-ebd6dbec4b74')\"\n",
              "              title=\"Convert this dataframe to an interactive table.\"\n",
              "              style=\"display:none;\">\n",
              "        \n",
              "  <svg xmlns=\"http://www.w3.org/2000/svg\" height=\"24px\"viewBox=\"0 0 24 24\"\n",
              "       width=\"24px\">\n",
              "    <path d=\"M0 0h24v24H0V0z\" fill=\"none\"/>\n",
              "    <path d=\"M18.56 5.44l.94 2.06.94-2.06 2.06-.94-2.06-.94-.94-2.06-.94 2.06-2.06.94zm-11 1L8.5 8.5l.94-2.06 2.06-.94-2.06-.94L8.5 2.5l-.94 2.06-2.06.94zm10 10l.94 2.06.94-2.06 2.06-.94-2.06-.94-.94-2.06-.94 2.06-2.06.94z\"/><path d=\"M17.41 7.96l-1.37-1.37c-.4-.4-.92-.59-1.43-.59-.52 0-1.04.2-1.43.59L10.3 9.45l-7.72 7.72c-.78.78-.78 2.05 0 2.83L4 21.41c.39.39.9.59 1.41.59.51 0 1.02-.2 1.41-.59l7.78-7.78 2.81-2.81c.8-.78.8-2.07 0-2.86zM5.41 20L4 18.59l7.72-7.72 1.47 1.35L5.41 20z\"/>\n",
              "  </svg>\n",
              "      </button>\n",
              "      \n",
              "  <style>\n",
              "    .colab-df-container {\n",
              "      display:flex;\n",
              "      flex-wrap:wrap;\n",
              "      gap: 12px;\n",
              "    }\n",
              "\n",
              "    .colab-df-convert {\n",
              "      background-color: #E8F0FE;\n",
              "      border: none;\n",
              "      border-radius: 50%;\n",
              "      cursor: pointer;\n",
              "      display: none;\n",
              "      fill: #1967D2;\n",
              "      height: 32px;\n",
              "      padding: 0 0 0 0;\n",
              "      width: 32px;\n",
              "    }\n",
              "\n",
              "    .colab-df-convert:hover {\n",
              "      background-color: #E2EBFA;\n",
              "      box-shadow: 0px 1px 2px rgba(60, 64, 67, 0.3), 0px 1px 3px 1px rgba(60, 64, 67, 0.15);\n",
              "      fill: #174EA6;\n",
              "    }\n",
              "\n",
              "    [theme=dark] .colab-df-convert {\n",
              "      background-color: #3B4455;\n",
              "      fill: #D2E3FC;\n",
              "    }\n",
              "\n",
              "    [theme=dark] .colab-df-convert:hover {\n",
              "      background-color: #434B5C;\n",
              "      box-shadow: 0px 1px 3px 1px rgba(0, 0, 0, 0.15);\n",
              "      filter: drop-shadow(0px 1px 2px rgba(0, 0, 0, 0.3));\n",
              "      fill: #FFFFFF;\n",
              "    }\n",
              "  </style>\n",
              "\n",
              "      <script>\n",
              "        const buttonEl =\n",
              "          document.querySelector('#df-f51684f4-4d6b-49b2-a76f-ebd6dbec4b74 button.colab-df-convert');\n",
              "        buttonEl.style.display =\n",
              "          google.colab.kernel.accessAllowed ? 'block' : 'none';\n",
              "\n",
              "        async function convertToInteractive(key) {\n",
              "          const element = document.querySelector('#df-f51684f4-4d6b-49b2-a76f-ebd6dbec4b74');\n",
              "          const dataTable =\n",
              "            await google.colab.kernel.invokeFunction('convertToInteractive',\n",
              "                                                     [key], {});\n",
              "          if (!dataTable) return;\n",
              "\n",
              "          const docLinkHtml = 'Like what you see? Visit the ' +\n",
              "            '<a target=\"_blank\" href=https://colab.research.google.com/notebooks/data_table.ipynb>data table notebook</a>'\n",
              "            + ' to learn more about interactive tables.';\n",
              "          element.innerHTML = '';\n",
              "          dataTable['output_type'] = 'display_data';\n",
              "          await google.colab.output.renderOutput(dataTable, element);\n",
              "          const docLink = document.createElement('div');\n",
              "          docLink.innerHTML = docLinkHtml;\n",
              "          element.appendChild(docLink);\n",
              "        }\n",
              "      </script>\n",
              "    </div>\n",
              "  </div>\n",
              "  "
            ]
          },
          "metadata": {},
          "execution_count": 10
        }
      ]
    },
    {
      "cell_type": "code",
      "source": [
        "train_data.head(10)"
      ],
      "metadata": {
        "colab": {
          "base_uri": "https://localhost:8080/",
          "height": 363
        },
        "id": "S5RL_n0KasZh",
        "outputId": "e9ae9968-cb0a-40cd-dd78-384eba290e7c"
      },
      "execution_count": null,
      "outputs": [
        {
          "output_type": "execute_result",
          "data": {
            "text/plain": [
              "    SepalLengthCm  SepalWidthCm  PetalLengthCm  PetalWidthCm  Species\n",
              "0             5.1           3.5            1.4           0.2        0\n",
              "2             4.7           3.2            1.3           0.2        0\n",
              "3             4.6           3.1            1.5           0.2        0\n",
              "5             5.4           3.9            1.7           0.4        0\n",
              "6             4.6           3.4            1.4           0.3        0\n",
              "7             5.0           3.4            1.5           0.2        0\n",
              "8             4.4           2.9            1.4           0.2        0\n",
              "9             4.9           3.1            1.5           0.1        0\n",
              "10            5.4           3.7            1.5           0.2        0\n",
              "13            4.3           3.0            1.1           0.1        0"
            ],
            "text/html": [
              "\n",
              "  <div id=\"df-6efb7a38-ee19-4819-a850-20f9a8dd91f9\">\n",
              "    <div class=\"colab-df-container\">\n",
              "      <div>\n",
              "<style scoped>\n",
              "    .dataframe tbody tr th:only-of-type {\n",
              "        vertical-align: middle;\n",
              "    }\n",
              "\n",
              "    .dataframe tbody tr th {\n",
              "        vertical-align: top;\n",
              "    }\n",
              "\n",
              "    .dataframe thead th {\n",
              "        text-align: right;\n",
              "    }\n",
              "</style>\n",
              "<table border=\"1\" class=\"dataframe\">\n",
              "  <thead>\n",
              "    <tr style=\"text-align: right;\">\n",
              "      <th></th>\n",
              "      <th>SepalLengthCm</th>\n",
              "      <th>SepalWidthCm</th>\n",
              "      <th>PetalLengthCm</th>\n",
              "      <th>PetalWidthCm</th>\n",
              "      <th>Species</th>\n",
              "    </tr>\n",
              "  </thead>\n",
              "  <tbody>\n",
              "    <tr>\n",
              "      <th>0</th>\n",
              "      <td>5.1</td>\n",
              "      <td>3.5</td>\n",
              "      <td>1.4</td>\n",
              "      <td>0.2</td>\n",
              "      <td>0</td>\n",
              "    </tr>\n",
              "    <tr>\n",
              "      <th>2</th>\n",
              "      <td>4.7</td>\n",
              "      <td>3.2</td>\n",
              "      <td>1.3</td>\n",
              "      <td>0.2</td>\n",
              "      <td>0</td>\n",
              "    </tr>\n",
              "    <tr>\n",
              "      <th>3</th>\n",
              "      <td>4.6</td>\n",
              "      <td>3.1</td>\n",
              "      <td>1.5</td>\n",
              "      <td>0.2</td>\n",
              "      <td>0</td>\n",
              "    </tr>\n",
              "    <tr>\n",
              "      <th>5</th>\n",
              "      <td>5.4</td>\n",
              "      <td>3.9</td>\n",
              "      <td>1.7</td>\n",
              "      <td>0.4</td>\n",
              "      <td>0</td>\n",
              "    </tr>\n",
              "    <tr>\n",
              "      <th>6</th>\n",
              "      <td>4.6</td>\n",
              "      <td>3.4</td>\n",
              "      <td>1.4</td>\n",
              "      <td>0.3</td>\n",
              "      <td>0</td>\n",
              "    </tr>\n",
              "    <tr>\n",
              "      <th>7</th>\n",
              "      <td>5.0</td>\n",
              "      <td>3.4</td>\n",
              "      <td>1.5</td>\n",
              "      <td>0.2</td>\n",
              "      <td>0</td>\n",
              "    </tr>\n",
              "    <tr>\n",
              "      <th>8</th>\n",
              "      <td>4.4</td>\n",
              "      <td>2.9</td>\n",
              "      <td>1.4</td>\n",
              "      <td>0.2</td>\n",
              "      <td>0</td>\n",
              "    </tr>\n",
              "    <tr>\n",
              "      <th>9</th>\n",
              "      <td>4.9</td>\n",
              "      <td>3.1</td>\n",
              "      <td>1.5</td>\n",
              "      <td>0.1</td>\n",
              "      <td>0</td>\n",
              "    </tr>\n",
              "    <tr>\n",
              "      <th>10</th>\n",
              "      <td>5.4</td>\n",
              "      <td>3.7</td>\n",
              "      <td>1.5</td>\n",
              "      <td>0.2</td>\n",
              "      <td>0</td>\n",
              "    </tr>\n",
              "    <tr>\n",
              "      <th>13</th>\n",
              "      <td>4.3</td>\n",
              "      <td>3.0</td>\n",
              "      <td>1.1</td>\n",
              "      <td>0.1</td>\n",
              "      <td>0</td>\n",
              "    </tr>\n",
              "  </tbody>\n",
              "</table>\n",
              "</div>\n",
              "      <button class=\"colab-df-convert\" onclick=\"convertToInteractive('df-6efb7a38-ee19-4819-a850-20f9a8dd91f9')\"\n",
              "              title=\"Convert this dataframe to an interactive table.\"\n",
              "              style=\"display:none;\">\n",
              "        \n",
              "  <svg xmlns=\"http://www.w3.org/2000/svg\" height=\"24px\"viewBox=\"0 0 24 24\"\n",
              "       width=\"24px\">\n",
              "    <path d=\"M0 0h24v24H0V0z\" fill=\"none\"/>\n",
              "    <path d=\"M18.56 5.44l.94 2.06.94-2.06 2.06-.94-2.06-.94-.94-2.06-.94 2.06-2.06.94zm-11 1L8.5 8.5l.94-2.06 2.06-.94-2.06-.94L8.5 2.5l-.94 2.06-2.06.94zm10 10l.94 2.06.94-2.06 2.06-.94-2.06-.94-.94-2.06-.94 2.06-2.06.94z\"/><path d=\"M17.41 7.96l-1.37-1.37c-.4-.4-.92-.59-1.43-.59-.52 0-1.04.2-1.43.59L10.3 9.45l-7.72 7.72c-.78.78-.78 2.05 0 2.83L4 21.41c.39.39.9.59 1.41.59.51 0 1.02-.2 1.41-.59l7.78-7.78 2.81-2.81c.8-.78.8-2.07 0-2.86zM5.41 20L4 18.59l7.72-7.72 1.47 1.35L5.41 20z\"/>\n",
              "  </svg>\n",
              "      </button>\n",
              "      \n",
              "  <style>\n",
              "    .colab-df-container {\n",
              "      display:flex;\n",
              "      flex-wrap:wrap;\n",
              "      gap: 12px;\n",
              "    }\n",
              "\n",
              "    .colab-df-convert {\n",
              "      background-color: #E8F0FE;\n",
              "      border: none;\n",
              "      border-radius: 50%;\n",
              "      cursor: pointer;\n",
              "      display: none;\n",
              "      fill: #1967D2;\n",
              "      height: 32px;\n",
              "      padding: 0 0 0 0;\n",
              "      width: 32px;\n",
              "    }\n",
              "\n",
              "    .colab-df-convert:hover {\n",
              "      background-color: #E2EBFA;\n",
              "      box-shadow: 0px 1px 2px rgba(60, 64, 67, 0.3), 0px 1px 3px 1px rgba(60, 64, 67, 0.15);\n",
              "      fill: #174EA6;\n",
              "    }\n",
              "\n",
              "    [theme=dark] .colab-df-convert {\n",
              "      background-color: #3B4455;\n",
              "      fill: #D2E3FC;\n",
              "    }\n",
              "\n",
              "    [theme=dark] .colab-df-convert:hover {\n",
              "      background-color: #434B5C;\n",
              "      box-shadow: 0px 1px 3px 1px rgba(0, 0, 0, 0.15);\n",
              "      filter: drop-shadow(0px 1px 2px rgba(0, 0, 0, 0.3));\n",
              "      fill: #FFFFFF;\n",
              "    }\n",
              "  </style>\n",
              "\n",
              "      <script>\n",
              "        const buttonEl =\n",
              "          document.querySelector('#df-6efb7a38-ee19-4819-a850-20f9a8dd91f9 button.colab-df-convert');\n",
              "        buttonEl.style.display =\n",
              "          google.colab.kernel.accessAllowed ? 'block' : 'none';\n",
              "\n",
              "        async function convertToInteractive(key) {\n",
              "          const element = document.querySelector('#df-6efb7a38-ee19-4819-a850-20f9a8dd91f9');\n",
              "          const dataTable =\n",
              "            await google.colab.kernel.invokeFunction('convertToInteractive',\n",
              "                                                     [key], {});\n",
              "          if (!dataTable) return;\n",
              "\n",
              "          const docLinkHtml = 'Like what you see? Visit the ' +\n",
              "            '<a target=\"_blank\" href=https://colab.research.google.com/notebooks/data_table.ipynb>data table notebook</a>'\n",
              "            + ' to learn more about interactive tables.';\n",
              "          element.innerHTML = '';\n",
              "          dataTable['output_type'] = 'display_data';\n",
              "          await google.colab.output.renderOutput(dataTable, element);\n",
              "          const docLink = document.createElement('div');\n",
              "          docLink.innerHTML = docLinkHtml;\n",
              "          element.appendChild(docLink);\n",
              "        }\n",
              "      </script>\n",
              "    </div>\n",
              "  </div>\n",
              "  "
            ]
          },
          "metadata": {},
          "execution_count": 11
        }
      ]
    },
    {
      "cell_type": "code",
      "source": [
        "trainX = train_data[['SepalLengthCm','SepalWidthCm','PetalLengthCm','PetalWidthCm']]\n",
        "trainY=train_data.Species"
      ],
      "metadata": {
        "id": "5-w5qOI24inO"
      },
      "execution_count": null,
      "outputs": []
    },
    {
      "cell_type": "code",
      "source": [
        "testX= test_data[['SepalLengthCm','SepalWidthCm','PetalLengthCm','PetalWidthCm']]\n",
        "testY =test_data.Species"
      ],
      "metadata": {
        "id": "CcV5xxoAA8n_"
      },
      "execution_count": null,
      "outputs": []
    },
    {
      "cell_type": "code",
      "source": [
        "clf = MLPClassifier(solver='lbfgs',epsilon=0.07, max_iter=150)"
      ],
      "metadata": {
        "id": "qR6FvatsBTR2"
      },
      "execution_count": null,
      "outputs": []
    },
    {
      "cell_type": "code",
      "source": [
        "clf.fit(trainX, trainY)"
      ],
      "metadata": {
        "colab": {
          "base_uri": "https://localhost:8080/"
        },
        "id": "8N0WEwuPBsBt",
        "outputId": "60af5d0a-6980-442e-bb96-95514165d901"
      },
      "execution_count": null,
      "outputs": [
        {
          "output_type": "execute_result",
          "data": {
            "text/plain": [
              "MLPClassifier(epsilon=0.07, max_iter=150, solver='lbfgs')"
            ]
          },
          "metadata": {},
          "execution_count": 15
        }
      ]
    },
    {
      "cell_type": "code",
      "source": [
        "prediction = clf.predict(testX)\n",
        "print(prediction)"
      ],
      "metadata": {
        "colab": {
          "base_uri": "https://localhost:8080/"
        },
        "id": "FmClZCYAB0zt",
        "outputId": "61094778-a13f-4338-8b65-967e789c05cc"
      },
      "execution_count": null,
      "outputs": [
        {
          "output_type": "stream",
          "name": "stdout",
          "text": [
            "[0 0 0 0 0 0 0 0 0 0 0 0 0 0 0 1 1 1 1 1 2 1 1 1 1 2 2 2 2 2 2 2 2 2 2 1 2\n",
            " 1 1 1 2 2 2 2 2 2 2 2]\n"
          ]
        }
      ]
    },
    {
      "cell_type": "code",
      "source": [
        "print('The accuracy is:',metrics.accuracy_score(prediction,testY))"
      ],
      "metadata": {
        "colab": {
          "base_uri": "https://localhost:8080/"
        },
        "id": "R_TNw9jHCEZe",
        "outputId": "9bf5d08d-e419-4e08-8ec3-ea4f3c48d37c"
      },
      "execution_count": null,
      "outputs": [
        {
          "output_type": "stream",
          "name": "stdout",
          "text": [
            "The accuracy is: 0.8958333333333334\n"
          ]
        }
      ]
    },
    {
      "cell_type": "code",
      "source": [
        "cm = metrics.confusion_matrix(testY, prediction, labels=clf.classes_)\n",
        "disp = metrics.ConfusionMatrixDisplay(confusion_matrix=cm,display_labels=clf.classes_)\n",
        "disp.plot()\n"
      ],
      "metadata": {
        "colab": {
          "base_uri": "https://localhost:8080/",
          "height": 296
        },
        "id": "vmyEmK9fCdoV",
        "outputId": "f34e23db-af3d-4de2-a26c-e84bd673b1f0"
      },
      "execution_count": null,
      "outputs": [
        {
          "output_type": "execute_result",
          "data": {
            "text/plain": [
              "<sklearn.metrics._plot.confusion_matrix.ConfusionMatrixDisplay at 0x7f47631b5fa0>"
            ]
          },
          "metadata": {},
          "execution_count": 18
        },
        {
          "output_type": "display_data",
          "data": {
            "text/plain": [
              "<Figure size 432x288 with 2 Axes>"
            ],
            "image/png": "[encoded data removed]"
          },
          "metadata": {
            "needs_background": "light"
          }
        }
      ]
    },
    {
      "cell_type": "code",
      "source": [
        "clf = MLPClassifier(solver='lbfgs',learning_rate='constant', learning_rate_init=0.7,epsilon=0.07, max_iter=150)\n",
        "clf.fit(trainX, trainY)\n"
      ],
      "metadata": {
        "colab": {
          "base_uri": "https://localhost:8080/"
        },
        "id": "U_P4Gum4DeSm",
        "outputId": "08d7f9b9-284e-4ee2-9353-abc4a1bffa18"
      },
      "execution_count": null,
      "outputs": [
        {
          "output_type": "execute_result",
          "data": {
            "text/plain": [
              "MLPClassifier(epsilon=0.07, learning_rate_init=0.7, max_iter=150,\n",
              "              solver='lbfgs')"
            ]
          },
          "metadata": {},
          "execution_count": 19
        }
      ]
    },
    {
      "cell_type": "code",
      "source": [
        "clf = MLPClassifier(solver='lbfgs',learning_rate='constant', learning_rate_init=0.7,epsilon=0.07, max_iter=9500)\n",
        "clf.fit(trainX, trainY)\n",
        "prediction = clf.predict(testX)\n",
        "cm = metrics.confusion_matrix(testY, prediction, labels=clf.classes_)\n",
        "disp = metrics.ConfusionMatrixDisplay(confusion_matrix=cm,display_labels=clf.classes_)\n",
        "disp.plot()"
      ],
      "metadata": {
        "colab": {
          "base_uri": "https://localhost:8080/",
          "height": 296
        },
        "id": "3FiysqdgPvm8",
        "outputId": "d909a0ae-4424-456e-8ba0-34a5a2ae6c69"
      },
      "execution_count": null,
      "outputs": [
        {
          "output_type": "execute_result",
          "data": {
            "text/plain": [
              "<sklearn.metrics._plot.confusion_matrix.ConfusionMatrixDisplay at 0x7f4760b5e220>"
            ]
          },
          "metadata": {},
          "execution_count": 20
        },
        {
          "output_type": "display_data",
          "data": {
            "text/plain": [
              "<Figure size 432x288 with 2 Axes>"
            ],
            "image/png": "[encoded data removed]"
          },
          "metadata": {
            "needs_background": "light"
          }
        }
      ]
    },
    {
      "cell_type": "markdown",
      "source": [
        "this phenomenon is known by Overfitting.<br>\n",
        "in order to avoid Overfitting we can:\n",
        "\n",
        "1.   Train with more data.\n",
        "2.   pause the model's training before memorizing noise and random fluctuations from the data.\n",
        "3. ...\n",
        "\n"
      ],
      "metadata": {
        "id": "45h2lsVZRPIk"
      }
    },
    {
      "cell_type": "markdown",
      "source": [
        "##Recurrent Neural Network (RNN)"
      ],
      "metadata": {
        "id": "i-pIY8PdU5tr"
      }
    },
    {
      "cell_type": "code",
      "source": [
        "import pandas as pd\n",
        "import numpy as np\n",
        "from keras.models import Sequential\n",
        "from keras.layers import Dense,LSTM,BatchNormalization\n",
        "from keras.wrappers.scikit_learn import KerasClassifier\n",
        "from keras.utils import np_utils\n",
        "from sklearn.preprocessing import LabelEncoder\n",
        "from sklearn.model_selection import train_test_split"
      ],
      "metadata": {
        "id": "TCxS_KAdSkN9"
      },
      "execution_count": 1,
      "outputs": []
    },
    {
      "cell_type": "markdown",
      "source": [
        "read the dataset<br>\n",
        "skip first row(header)<br>\n",
        "skip the id col<br>"
      ],
      "metadata": {
        "id": "CYsqLCuhceDZ"
      }
    },
    {
      "cell_type": "code",
      "source": [
        "df = pd.read_csv('Iris.csv',header = None,skiprows=1)\n",
        "X = np.array(df.iloc[:,df.columns!=5])\n",
        "Y = np.array(df.iloc[:,df.columns==5])\n",
        "X = X[:,1:]\n",
        "Y"
      ],
      "metadata": {
        "colab": {
          "base_uri": "https://localhost:8080/"
        },
        "id": "LqOX_GIaXHFd",
        "outputId": "5f55840f-93ec-4fd4-b7cc-2d788daf292c"
      },
      "execution_count": 80,
      "outputs": [
        {
          "output_type": "execute_result",
          "data": {
            "text/plain": [
              "array([['Iris-setosa'],\n",
              "       ['Iris-setosa'],\n",
              "       ['Iris-setosa'],\n",
              "       ['Iris-setosa'],\n",
              "       ['Iris-setosa'],\n",
              "       ['Iris-setosa'],\n",
              "       ['Iris-setosa'],\n",
              "       ['Iris-setosa'],\n",
              "       ['Iris-setosa'],\n",
              "       ['Iris-setosa'],\n",
              "       ['Iris-setosa'],\n",
              "       ['Iris-setosa'],\n",
              "       ['Iris-setosa'],\n",
              "       ['Iris-setosa'],\n",
              "       ['Iris-setosa'],\n",
              "       ['Iris-setosa'],\n",
              "       ['Iris-setosa'],\n",
              "       ['Iris-setosa'],\n",
              "       ['Iris-setosa'],\n",
              "       ['Iris-setosa'],\n",
              "       ['Iris-setosa'],\n",
              "       ['Iris-setosa'],\n",
              "       ['Iris-setosa'],\n",
              "       ['Iris-setosa'],\n",
              "       ['Iris-setosa'],\n",
              "       ['Iris-setosa'],\n",
              "       ['Iris-setosa'],\n",
              "       ['Iris-setosa'],\n",
              "       ['Iris-setosa'],\n",
              "       ['Iris-setosa'],\n",
              "       ['Iris-setosa'],\n",
              "       ['Iris-setosa'],\n",
              "       ['Iris-setosa'],\n",
              "       ['Iris-setosa'],\n",
              "       ['Iris-setosa'],\n",
              "       ['Iris-setosa'],\n",
              "       ['Iris-setosa'],\n",
              "       ['Iris-setosa'],\n",
              "       ['Iris-setosa'],\n",
              "       ['Iris-setosa'],\n",
              "       ['Iris-setosa'],\n",
              "       ['Iris-setosa'],\n",
              "       ['Iris-setosa'],\n",
              "       ['Iris-setosa'],\n",
              "       ['Iris-setosa'],\n",
              "       ['Iris-setosa'],\n",
              "       ['Iris-setosa'],\n",
              "       ['Iris-setosa'],\n",
              "       ['Iris-setosa'],\n",
              "       ['Iris-setosa'],\n",
              "       ['Iris-versicolor'],\n",
              "       ['Iris-versicolor'],\n",
              "       ['Iris-versicolor'],\n",
              "       ['Iris-versicolor'],\n",
              "       ['Iris-versicolor'],\n",
              "       ['Iris-versicolor'],\n",
              "       ['Iris-versicolor'],\n",
              "       ['Iris-versicolor'],\n",
              "       ['Iris-versicolor'],\n",
              "       ['Iris-versicolor'],\n",
              "       ['Iris-versicolor'],\n",
              "       ['Iris-versicolor'],\n",
              "       ['Iris-versicolor'],\n",
              "       ['Iris-versicolor'],\n",
              "       ['Iris-versicolor'],\n",
              "       ['Iris-versicolor'],\n",
              "       ['Iris-versicolor'],\n",
              "       ['Iris-versicolor'],\n",
              "       ['Iris-versicolor'],\n",
              "       ['Iris-versicolor'],\n",
              "       ['Iris-versicolor'],\n",
              "       ['Iris-versicolor'],\n",
              "       ['Iris-versicolor'],\n",
              "       ['Iris-versicolor'],\n",
              "       ['Iris-versicolor'],\n",
              "       ['Iris-versicolor'],\n",
              "       ['Iris-versicolor'],\n",
              "       ['Iris-versicolor'],\n",
              "       ['Iris-versicolor'],\n",
              "       ['Iris-versicolor'],\n",
              "       ['Iris-versicolor'],\n",
              "       ['Iris-versicolor'],\n",
              "       ['Iris-versicolor'],\n",
              "       ['Iris-versicolor'],\n",
              "       ['Iris-versicolor'],\n",
              "       ['Iris-versicolor'],\n",
              "       ['Iris-versicolor'],\n",
              "       ['Iris-versicolor'],\n",
              "       ['Iris-versicolor'],\n",
              "       ['Iris-versicolor'],\n",
              "       ['Iris-versicolor'],\n",
              "       ['Iris-versicolor'],\n",
              "       ['Iris-versicolor'],\n",
              "       ['Iris-versicolor'],\n",
              "       ['Iris-versicolor'],\n",
              "       ['Iris-versicolor'],\n",
              "       ['Iris-versicolor'],\n",
              "       ['Iris-versicolor'],\n",
              "       ['Iris-versicolor'],\n",
              "       ['Iris-versicolor'],\n",
              "       ['Iris-virginica'],\n",
              "       ['Iris-virginica'],\n",
              "       ['Iris-virginica'],\n",
              "       ['Iris-virginica'],\n",
              "       ['Iris-virginica'],\n",
              "       ['Iris-virginica'],\n",
              "       ['Iris-virginica'],\n",
              "       ['Iris-virginica'],\n",
              "       ['Iris-virginica'],\n",
              "       ['Iris-virginica'],\n",
              "       ['Iris-virginica'],\n",
              "       ['Iris-virginica'],\n",
              "       ['Iris-virginica'],\n",
              "       ['Iris-virginica'],\n",
              "       ['Iris-virginica'],\n",
              "       ['Iris-virginica'],\n",
              "       ['Iris-virginica'],\n",
              "       ['Iris-virginica'],\n",
              "       ['Iris-virginica'],\n",
              "       ['Iris-virginica'],\n",
              "       ['Iris-virginica'],\n",
              "       ['Iris-virginica'],\n",
              "       ['Iris-virginica'],\n",
              "       ['Iris-virginica'],\n",
              "       ['Iris-virginica'],\n",
              "       ['Iris-virginica'],\n",
              "       ['Iris-virginica'],\n",
              "       ['Iris-virginica'],\n",
              "       ['Iris-virginica'],\n",
              "       ['Iris-virginica'],\n",
              "       ['Iris-virginica'],\n",
              "       ['Iris-virginica'],\n",
              "       ['Iris-virginica'],\n",
              "       ['Iris-virginica'],\n",
              "       ['Iris-virginica'],\n",
              "       ['Iris-virginica'],\n",
              "       ['Iris-virginica'],\n",
              "       ['Iris-virginica'],\n",
              "       ['Iris-virginica'],\n",
              "       ['Iris-virginica'],\n",
              "       ['Iris-virginica'],\n",
              "       ['Iris-virginica'],\n",
              "       ['Iris-virginica'],\n",
              "       ['Iris-virginica'],\n",
              "       ['Iris-virginica'],\n",
              "       ['Iris-virginica'],\n",
              "       ['Iris-virginica'],\n",
              "       ['Iris-virginica'],\n",
              "       ['Iris-virginica'],\n",
              "       ['Iris-virginica']], dtype=object)"
            ]
          },
          "metadata": {},
          "execution_count": 80
        }
      ]
    },
    {
      "cell_type": "code",
      "source": [
        "X = X.reshape(X.shape+(1,))"
      ],
      "metadata": {
        "id": "lpzYJ3gvQGFQ"
      },
      "execution_count": 70,
      "outputs": []
    },
    {
      "cell_type": "markdown",
      "source": [
        "encode the classes:<br>\n",
        "\n",
        "\n",
        "*   Iris-setosa -> 0\n",
        "*   Iris-versicolor -> 1\n",
        "*   Iris-virginica -> 2\n"
      ],
      "metadata": {
        "id": "_lLJEexrc3Yf"
      }
    },
    {
      "cell_type": "code",
      "source": [
        "labelEncode = LabelEncoder()\n",
        "ty = labelEncode.fit_transform(Y)\n",
        "print(ty)"
      ],
      "metadata": {
        "colab": {
          "base_uri": "https://localhost:8080/"
        },
        "id": "ONKjegTGQNu_",
        "outputId": "4004837c-b781-4141-de16-188c30171927"
      },
      "execution_count": 71,
      "outputs": [
        {
          "output_type": "stream",
          "name": "stdout",
          "text": [
            "[0 0 0 0 0 0 0 0 0 0 0 0 0 0 0 0 0 0 0 0 0 0 0 0 0 0 0 0 0 0 0 0 0 0 0 0 0\n",
            " 0 0 0 0 0 0 0 0 0 0 0 0 0 1 1 1 1 1 1 1 1 1 1 1 1 1 1 1 1 1 1 1 1 1 1 1 1\n",
            " 1 1 1 1 1 1 1 1 1 1 1 1 1 1 1 1 1 1 1 1 1 1 1 1 1 1 2 2 2 2 2 2 2 2 2 2 2\n",
            " 2 2 2 2 2 2 2 2 2 2 2 2 2 2 2 2 2 2 2 2 2 2 2 2 2 2 2 2 2 2 2 2 2 2 2 2 2\n",
            " 2 2]\n"
          ]
        },
        {
          "output_type": "stream",
          "name": "stderr",
          "text": [
            "/usr/local/lib/python3.8/dist-packages/sklearn/preprocessing/_label.py:115: DataConversionWarning: A column-vector y was passed when a 1d array was expected. Please change the shape of y to (n_samples, ), for example using ravel().\n",
            "  y = column_or_1d(y, warn=True)\n"
          ]
        }
      ]
    },
    {
      "cell_type": "code",
      "source": [
        "y = np_utils.to_categorical(ty)\n",
        "print(y[:5])"
      ],
      "metadata": {
        "colab": {
          "base_uri": "https://localhost:8080/"
        },
        "id": "xoZHsPS9QY1g",
        "outputId": "bd7ee4ed-de52-4478-f2a7-65f4e9621c65"
      },
      "execution_count": 72,
      "outputs": [
        {
          "output_type": "stream",
          "name": "stdout",
          "text": [
            "[[1. 0. 0.]\n",
            " [1. 0. 0.]\n",
            " [1. 0. 0.]\n",
            " [1. 0. 0.]\n",
            " [1. 0. 0.]]\n"
          ]
        }
      ]
    },
    {
      "cell_type": "markdown",
      "source": [
        "split the dataset to 80% for training and 20% for validation"
      ],
      "metadata": {
        "id": "S4mQUZA9ddX5"
      }
    },
    {
      "cell_type": "code",
      "source": [
        "train_x,test_x,train_y,test_y = train_test_split(X,y,test_size=0.2)\n",
        "test_x "
      ],
      "metadata": {
        "id": "PAezGDBPQorI"
      },
      "execution_count": null,
      "outputs": []
    },
    {
      "cell_type": "markdown",
      "source": [
        "**train the model**.<br>\n",
        "for the feedback connections i am using LSTM (Long short-term memory: cell can process data sequentially and keep its hidden state through time.).\n",
        "\n",
        "\n",
        "![image.png](data:image/png;base64,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)"
      ],
      "metadata": {
        "id": "YcSAY4ledjIY"
      }
    },
    {
      "cell_type": "code",
      "source": [
        "model = Sequential()\n",
        "model.add(BatchNormalization())\n",
        "model.add(LSTM(4))\n",
        "model.add(Dense(3,activation='softmax'))\n",
        "model.compile(loss='categorical_crossentropy', optimizer='adam', metrics=['accuracy'])\n",
        "model.fit(train_x, train_y, epochs=150,validation_data=(test_x,test_y),verbose=1)\n",
        "model.summary()"
      ],
      "metadata": {
        "id": "uGT0d_VFWmqk",
        "colab": {
          "base_uri": "https://localhost:8080/"
        },
        "outputId": "978c372a-36fe-4217-d376-68698b4515b8"
      },
      "execution_count": 74,
      "outputs": [
        {
          "output_type": "stream",
          "name": "stdout",
          "text": [
            "Epoch 1/150\n",
            "4/4 [==============================] - 4s 302ms/step - loss: 1.0720 - accuracy: 0.2750 - val_loss: 1.1001 - val_accuracy: 0.3000\n",
            "Epoch 2/150\n",
            "4/4 [==============================] - 0s 12ms/step - loss: 1.0686 - accuracy: 0.2500 - val_loss: 1.1001 - val_accuracy: 0.1667\n",
            "Epoch 3/150\n",
            "4/4 [==============================] - 0s 13ms/step - loss: 1.0653 - accuracy: 0.2417 - val_loss: 1.0999 - val_accuracy: 0.1667\n",
            "Epoch 4/150\n",
            "4/4 [==============================] - 0s 12ms/step - loss: 1.0622 - accuracy: 0.2583 - val_loss: 1.0998 - val_accuracy: 0.3333\n",
            "Epoch 5/150\n",
            "4/4 [==============================] - 0s 11ms/step - loss: 1.0613 - accuracy: 0.3583 - val_loss: 1.0995 - val_accuracy: 0.3667\n",
            "Epoch 6/150\n",
            "4/4 [==============================] - 0s 16ms/step - loss: 1.0564 - accuracy: 0.4250 - val_loss: 1.0992 - val_accuracy: 0.3667\n",
            "Epoch 7/150\n",
            "4/4 [==============================] - 0s 12ms/step - loss: 1.0586 - accuracy: 0.4667 - val_loss: 1.0987 - val_accuracy: 0.3667\n",
            "Epoch 8/150\n",
            "4/4 [==============================] - 0s 14ms/step - loss: 1.0512 - accuracy: 0.7250 - val_loss: 1.0980 - val_accuracy: 0.3667\n",
            "Epoch 9/150\n",
            "4/4 [==============================] - 0s 14ms/step - loss: 1.0486 - accuracy: 0.8000 - val_loss: 1.0970 - val_accuracy: 0.3667\n",
            "Epoch 10/150\n",
            "4/4 [==============================] - 0s 12ms/step - loss: 1.0453 - accuracy: 0.8083 - val_loss: 1.0957 - val_accuracy: 0.3667\n",
            "Epoch 11/150\n",
            "4/4 [==============================] - 0s 12ms/step - loss: 1.0440 - accuracy: 0.8333 - val_loss: 1.0940 - val_accuracy: 0.3667\n",
            "Epoch 12/150\n",
            "4/4 [==============================] - 0s 12ms/step - loss: 1.0425 - accuracy: 0.8250 - val_loss: 1.0921 - val_accuracy: 0.3667\n",
            "Epoch 13/150\n",
            "4/4 [==============================] - 0s 12ms/step - loss: 1.0377 - accuracy: 0.8500 - val_loss: 1.0897 - val_accuracy: 0.3667\n",
            "Epoch 14/150\n",
            "4/4 [==============================] - 0s 11ms/step - loss: 1.0350 - accuracy: 0.8250 - val_loss: 1.0870 - val_accuracy: 0.3667\n",
            "Epoch 15/150\n",
            "4/4 [==============================] - 0s 18ms/step - loss: 1.0313 - accuracy: 0.8583 - val_loss: 1.0842 - val_accuracy: 0.4000\n",
            "Epoch 16/150\n",
            "4/4 [==============================] - 0s 12ms/step - loss: 1.0285 - accuracy: 0.8417 - val_loss: 1.0810 - val_accuracy: 0.5667\n",
            "Epoch 17/150\n",
            "4/4 [==============================] - 0s 12ms/step - loss: 1.0266 - accuracy: 0.8583 - val_loss: 1.0777 - val_accuracy: 0.6333\n",
            "Epoch 18/150\n",
            "4/4 [==============================] - 0s 13ms/step - loss: 1.0229 - accuracy: 0.8417 - val_loss: 1.0740 - val_accuracy: 0.6333\n",
            "Epoch 19/150\n",
            "4/4 [==============================] - 0s 12ms/step - loss: 1.0193 - accuracy: 0.8250 - val_loss: 1.0700 - val_accuracy: 0.6000\n",
            "Epoch 20/150\n",
            "4/4 [==============================] - 0s 12ms/step - loss: 1.0159 - accuracy: 0.8083 - val_loss: 1.0659 - val_accuracy: 0.6000\n",
            "Epoch 21/150\n",
            "4/4 [==============================] - 0s 19ms/step - loss: 1.0180 - accuracy: 0.7583 - val_loss: 1.0616 - val_accuracy: 0.6000\n",
            "Epoch 22/150\n",
            "4/4 [==============================] - 0s 13ms/step - loss: 1.0078 - accuracy: 0.8167 - val_loss: 1.0571 - val_accuracy: 0.6000\n",
            "Epoch 23/150\n",
            "4/4 [==============================] - 0s 13ms/step - loss: 1.0044 - accuracy: 0.8250 - val_loss: 1.0527 - val_accuracy: 0.5333\n",
            "Epoch 24/150\n",
            "4/4 [==============================] - 0s 12ms/step - loss: 1.0056 - accuracy: 0.7417 - val_loss: 1.0481 - val_accuracy: 0.5333\n",
            "Epoch 25/150\n",
            "4/4 [==============================] - 0s 12ms/step - loss: 0.9987 - accuracy: 0.7833 - val_loss: 1.0431 - val_accuracy: 0.6333\n",
            "Epoch 26/150\n",
            "4/4 [==============================] - 0s 12ms/step - loss: 0.9942 - accuracy: 0.7917 - val_loss: 1.0381 - val_accuracy: 0.6667\n",
            "Epoch 27/150\n",
            "4/4 [==============================] - 0s 11ms/step - loss: 0.9912 - accuracy: 0.7750 - val_loss: 1.0332 - val_accuracy: 0.7000\n",
            "Epoch 28/150\n",
            "4/4 [==============================] - 0s 12ms/step - loss: 0.9917 - accuracy: 0.7750 - val_loss: 1.0284 - val_accuracy: 0.7000\n",
            "Epoch 29/150\n",
            "4/4 [==============================] - 0s 11ms/step - loss: 0.9834 - accuracy: 0.7583 - val_loss: 1.0233 - val_accuracy: 0.6667\n",
            "Epoch 30/150\n",
            "4/4 [==============================] - 0s 12ms/step - loss: 0.9835 - accuracy: 0.7750 - val_loss: 1.0182 - val_accuracy: 0.6667\n",
            "Epoch 31/150\n",
            "4/4 [==============================] - 0s 12ms/step - loss: 0.9738 - accuracy: 0.8167 - val_loss: 1.0130 - val_accuracy: 0.6667\n",
            "Epoch 32/150\n",
            "4/4 [==============================] - 0s 16ms/step - loss: 0.9726 - accuracy: 0.8000 - val_loss: 1.0079 - val_accuracy: 0.7000\n",
            "Epoch 33/150\n",
            "4/4 [==============================] - 0s 18ms/step - loss: 0.9667 - accuracy: 0.8000 - val_loss: 1.0027 - val_accuracy: 0.7000\n",
            "Epoch 34/150\n",
            "4/4 [==============================] - 0s 13ms/step - loss: 0.9621 - accuracy: 0.8000 - val_loss: 0.9975 - val_accuracy: 0.7000\n",
            "Epoch 35/150\n",
            "4/4 [==============================] - 0s 12ms/step - loss: 0.9563 - accuracy: 0.8417 - val_loss: 0.9926 - val_accuracy: 0.7000\n",
            "Epoch 36/150\n",
            "4/4 [==============================] - 0s 12ms/step - loss: 0.9504 - accuracy: 0.8083 - val_loss: 0.9875 - val_accuracy: 0.7000\n",
            "Epoch 37/150\n",
            "4/4 [==============================] - 0s 12ms/step - loss: 0.9494 - accuracy: 0.8167 - val_loss: 0.9827 - val_accuracy: 0.7000\n",
            "Epoch 38/150\n",
            "4/4 [==============================] - 0s 11ms/step - loss: 0.9413 - accuracy: 0.8417 - val_loss: 0.9773 - val_accuracy: 0.7000\n",
            "Epoch 39/150\n",
            "4/4 [==============================] - 0s 13ms/step - loss: 0.9351 - accuracy: 0.8583 - val_loss: 0.9721 - val_accuracy: 0.7000\n",
            "Epoch 40/150\n",
            "4/4 [==============================] - 0s 12ms/step - loss: 0.9299 - accuracy: 0.8417 - val_loss: 0.9665 - val_accuracy: 0.7000\n",
            "Epoch 41/150\n",
            "4/4 [==============================] - 0s 12ms/step - loss: 0.9297 - accuracy: 0.8083 - val_loss: 0.9608 - val_accuracy: 0.7000\n",
            "Epoch 42/150\n",
            "4/4 [==============================] - 0s 12ms/step - loss: 0.9368 - accuracy: 0.8083 - val_loss: 0.9546 - val_accuracy: 0.7000\n",
            "Epoch 43/150\n",
            "4/4 [==============================] - 0s 12ms/step - loss: 0.9117 - accuracy: 0.8250 - val_loss: 0.9491 - val_accuracy: 0.7000\n",
            "Epoch 44/150\n",
            "4/4 [==============================] - 0s 12ms/step - loss: 0.9109 - accuracy: 0.8250 - val_loss: 0.9433 - val_accuracy: 0.7000\n",
            "Epoch 45/150\n",
            "4/4 [==============================] - 0s 12ms/step - loss: 0.9034 - accuracy: 0.8083 - val_loss: 0.9377 - val_accuracy: 0.7000\n",
            "Epoch 46/150\n",
            "4/4 [==============================] - 0s 11ms/step - loss: 0.8930 - accuracy: 0.8333 - val_loss: 0.9314 - val_accuracy: 0.7000\n",
            "Epoch 47/150\n",
            "4/4 [==============================] - 0s 15ms/step - loss: 0.8959 - accuracy: 0.8333 - val_loss: 0.9256 - val_accuracy: 0.7000\n",
            "Epoch 48/150\n",
            "4/4 [==============================] - 0s 11ms/step - loss: 0.8832 - accuracy: 0.8083 - val_loss: 0.9192 - val_accuracy: 0.7000\n",
            "Epoch 49/150\n",
            "4/4 [==============================] - 0s 12ms/step - loss: 0.8901 - accuracy: 0.8083 - val_loss: 0.9133 - val_accuracy: 0.7000\n",
            "Epoch 50/150\n",
            "4/4 [==============================] - 0s 12ms/step - loss: 0.8754 - accuracy: 0.8583 - val_loss: 0.9064 - val_accuracy: 0.7000\n",
            "Epoch 51/150\n",
            "4/4 [==============================] - 0s 12ms/step - loss: 0.8679 - accuracy: 0.8083 - val_loss: 0.8994 - val_accuracy: 0.7000\n",
            "Epoch 52/150\n",
            "4/4 [==============================] - 0s 12ms/step - loss: 0.8526 - accuracy: 0.8250 - val_loss: 0.8934 - val_accuracy: 0.7000\n",
            "Epoch 53/150\n",
            "4/4 [==============================] - 0s 12ms/step - loss: 0.8630 - accuracy: 0.8000 - val_loss: 0.8869 - val_accuracy: 0.7000\n",
            "Epoch 54/150\n",
            "4/4 [==============================] - 0s 19ms/step - loss: 0.8410 - accuracy: 0.8500 - val_loss: 0.8805 - val_accuracy: 0.7000\n",
            "Epoch 55/150\n",
            "4/4 [==============================] - 0s 13ms/step - loss: 0.8351 - accuracy: 0.8333 - val_loss: 0.8740 - val_accuracy: 0.7000\n",
            "Epoch 56/150\n",
            "4/4 [==============================] - 0s 13ms/step - loss: 0.8274 - accuracy: 0.8333 - val_loss: 0.8674 - val_accuracy: 0.7000\n",
            "Epoch 57/150\n",
            "4/4 [==============================] - 0s 12ms/step - loss: 0.8340 - accuracy: 0.8000 - val_loss: 0.8611 - val_accuracy: 0.6667\n",
            "Epoch 58/150\n",
            "4/4 [==============================] - 0s 14ms/step - loss: 0.8168 - accuracy: 0.8083 - val_loss: 0.8535 - val_accuracy: 0.6667\n",
            "Epoch 59/150\n",
            "4/4 [==============================] - 0s 12ms/step - loss: 0.8140 - accuracy: 0.8000 - val_loss: 0.8464 - val_accuracy: 0.6667\n",
            "Epoch 60/150\n",
            "4/4 [==============================] - 0s 12ms/step - loss: 0.7950 - accuracy: 0.8417 - val_loss: 0.8393 - val_accuracy: 0.6667\n",
            "Epoch 61/150\n",
            "4/4 [==============================] - 0s 13ms/step - loss: 0.7915 - accuracy: 0.8000 - val_loss: 0.8319 - val_accuracy: 0.7000\n",
            "Epoch 62/150\n",
            "4/4 [==============================] - 0s 13ms/step - loss: 0.7981 - accuracy: 0.8333 - val_loss: 0.8243 - val_accuracy: 0.7000\n",
            "Epoch 63/150\n",
            "4/4 [==============================] - 0s 13ms/step - loss: 0.7786 - accuracy: 0.8417 - val_loss: 0.8184 - val_accuracy: 0.7000\n",
            "Epoch 64/150\n",
            "4/4 [==============================] - 0s 15ms/step - loss: 0.7911 - accuracy: 0.8250 - val_loss: 0.8120 - val_accuracy: 0.7000\n",
            "Epoch 65/150\n",
            "4/4 [==============================] - 0s 12ms/step - loss: 0.7644 - accuracy: 0.8500 - val_loss: 0.8057 - val_accuracy: 0.7000\n",
            "Epoch 66/150\n",
            "4/4 [==============================] - 0s 12ms/step - loss: 0.7549 - accuracy: 0.8417 - val_loss: 0.7988 - val_accuracy: 0.7000\n",
            "Epoch 67/150\n",
            "4/4 [==============================] - 0s 12ms/step - loss: 0.7467 - accuracy: 0.8583 - val_loss: 0.7915 - val_accuracy: 0.7333\n",
            "Epoch 68/150\n",
            "4/4 [==============================] - 0s 12ms/step - loss: 0.7401 - accuracy: 0.8500 - val_loss: 0.7841 - val_accuracy: 0.7333\n",
            "Epoch 69/150\n",
            "4/4 [==============================] - 0s 12ms/step - loss: 0.7537 - accuracy: 0.8000 - val_loss: 0.7760 - val_accuracy: 0.7333\n",
            "Epoch 70/150\n",
            "4/4 [==============================] - 0s 12ms/step - loss: 0.7207 - accuracy: 0.8750 - val_loss: 0.7687 - val_accuracy: 0.7333\n",
            "Epoch 71/150\n",
            "4/4 [==============================] - 0s 12ms/step - loss: 0.7133 - accuracy: 0.8417 - val_loss: 0.7612 - val_accuracy: 0.7333\n",
            "Epoch 72/150\n",
            "4/4 [==============================] - 0s 14ms/step - loss: 0.7228 - accuracy: 0.7917 - val_loss: 0.7546 - val_accuracy: 0.7667\n",
            "Epoch 73/150\n",
            "4/4 [==============================] - 0s 17ms/step - loss: 0.7359 - accuracy: 0.7917 - val_loss: 0.7486 - val_accuracy: 0.7667\n",
            "Epoch 74/150\n",
            "4/4 [==============================] - 0s 12ms/step - loss: 0.7315 - accuracy: 0.7917 - val_loss: 0.7412 - val_accuracy: 0.7667\n",
            "Epoch 75/150\n",
            "4/4 [==============================] - 0s 12ms/step - loss: 0.7010 - accuracy: 0.8167 - val_loss: 0.7324 - val_accuracy: 0.7667\n",
            "Epoch 76/150\n",
            "4/4 [==============================] - 0s 13ms/step - loss: 0.6901 - accuracy: 0.8250 - val_loss: 0.7249 - val_accuracy: 0.7667\n",
            "Epoch 77/150\n",
            "4/4 [==============================] - 0s 13ms/step - loss: 0.6743 - accuracy: 0.8500 - val_loss: 0.7170 - val_accuracy: 0.7667\n",
            "Epoch 78/150\n",
            "4/4 [==============================] - 0s 13ms/step - loss: 0.6798 - accuracy: 0.8417 - val_loss: 0.7102 - val_accuracy: 0.7667\n",
            "Epoch 79/150\n",
            "4/4 [==============================] - 0s 12ms/step - loss: 0.6650 - accuracy: 0.8417 - val_loss: 0.7037 - val_accuracy: 0.8000\n",
            "Epoch 80/150\n",
            "4/4 [==============================] - 0s 13ms/step - loss: 0.6713 - accuracy: 0.8167 - val_loss: 0.6980 - val_accuracy: 0.8000\n",
            "Epoch 81/150\n",
            "4/4 [==============================] - 0s 12ms/step - loss: 0.6661 - accuracy: 0.8250 - val_loss: 0.6929 - val_accuracy: 0.8000\n",
            "Epoch 82/150\n",
            "4/4 [==============================] - 0s 12ms/step - loss: 0.6391 - accuracy: 0.8667 - val_loss: 0.6874 - val_accuracy: 0.8333\n",
            "Epoch 83/150\n",
            "4/4 [==============================] - 0s 12ms/step - loss: 0.6499 - accuracy: 0.8333 - val_loss: 0.6812 - val_accuracy: 0.8333\n",
            "Epoch 84/150\n",
            "4/4 [==============================] - 0s 12ms/step - loss: 0.6452 - accuracy: 0.7917 - val_loss: 0.6759 - val_accuracy: 0.8333\n",
            "Epoch 85/150\n",
            "4/4 [==============================] - 0s 13ms/step - loss: 0.6420 - accuracy: 0.7833 - val_loss: 0.6710 - val_accuracy: 0.8333\n",
            "Epoch 86/150\n",
            "4/4 [==============================] - 0s 12ms/step - loss: 0.6354 - accuracy: 0.8333 - val_loss: 0.6652 - val_accuracy: 0.8667\n",
            "Epoch 87/150\n",
            "4/4 [==============================] - 0s 12ms/step - loss: 0.6238 - accuracy: 0.8250 - val_loss: 0.6578 - val_accuracy: 0.9000\n",
            "Epoch 88/150\n",
            "4/4 [==============================] - 0s 12ms/step - loss: 0.6092 - accuracy: 0.8750 - val_loss: 0.6522 - val_accuracy: 0.9000\n",
            "Epoch 89/150\n",
            "4/4 [==============================] - 0s 12ms/step - loss: 0.6205 - accuracy: 0.8250 - val_loss: 0.6467 - val_accuracy: 0.9000\n",
            "Epoch 90/150\n",
            "4/4 [==============================] - 0s 12ms/step - loss: 0.6097 - accuracy: 0.8250 - val_loss: 0.6407 - val_accuracy: 0.9000\n",
            "Epoch 91/150\n",
            "4/4 [==============================] - 0s 12ms/step - loss: 0.5995 - accuracy: 0.8500 - val_loss: 0.6346 - val_accuracy: 0.9000\n",
            "Epoch 92/150\n",
            "4/4 [==============================] - 0s 12ms/step - loss: 0.5881 - accuracy: 0.8417 - val_loss: 0.6296 - val_accuracy: 0.9000\n",
            "Epoch 93/150\n",
            "4/4 [==============================] - 0s 15ms/step - loss: 0.5905 - accuracy: 0.8583 - val_loss: 0.6245 - val_accuracy: 0.9000\n",
            "Epoch 94/150\n",
            "4/4 [==============================] - 0s 20ms/step - loss: 0.5821 - accuracy: 0.8417 - val_loss: 0.6182 - val_accuracy: 0.9000\n",
            "Epoch 95/150\n",
            "4/4 [==============================] - 0s 13ms/step - loss: 0.5766 - accuracy: 0.8583 - val_loss: 0.6144 - val_accuracy: 0.9000\n",
            "Epoch 96/150\n",
            "4/4 [==============================] - 0s 12ms/step - loss: 0.5744 - accuracy: 0.8583 - val_loss: 0.6087 - val_accuracy: 0.9000\n",
            "Epoch 97/150\n",
            "4/4 [==============================] - 0s 14ms/step - loss: 0.5708 - accuracy: 0.8167 - val_loss: 0.6047 - val_accuracy: 0.9000\n",
            "Epoch 98/150\n",
            "4/4 [==============================] - 0s 14ms/step - loss: 0.5941 - accuracy: 0.8250 - val_loss: 0.6022 - val_accuracy: 0.9000\n",
            "Epoch 99/150\n",
            "4/4 [==============================] - 0s 13ms/step - loss: 0.5633 - accuracy: 0.8583 - val_loss: 0.5960 - val_accuracy: 0.9000\n",
            "Epoch 100/150\n",
            "4/4 [==============================] - 0s 12ms/step - loss: 0.6012 - accuracy: 0.8083 - val_loss: 0.5911 - val_accuracy: 0.9000\n",
            "Epoch 101/150\n",
            "4/4 [==============================] - 0s 12ms/step - loss: 0.5962 - accuracy: 0.8167 - val_loss: 0.5863 - val_accuracy: 0.9000\n",
            "Epoch 102/150\n",
            "4/4 [==============================] - 0s 13ms/step - loss: 0.5377 - accuracy: 0.8833 - val_loss: 0.5816 - val_accuracy: 0.9000\n",
            "Epoch 103/150\n",
            "4/4 [==============================] - 0s 16ms/step - loss: 0.5366 - accuracy: 0.8417 - val_loss: 0.5773 - val_accuracy: 0.9000\n",
            "Epoch 104/150\n",
            "4/4 [==============================] - 0s 12ms/step - loss: 0.5207 - accuracy: 0.8583 - val_loss: 0.5736 - val_accuracy: 0.9000\n",
            "Epoch 105/150\n",
            "4/4 [==============================] - 0s 12ms/step - loss: 0.5373 - accuracy: 0.8250 - val_loss: 0.5691 - val_accuracy: 0.9000\n",
            "Epoch 106/150\n",
            "4/4 [==============================] - 0s 12ms/step - loss: 0.5312 - accuracy: 0.8500 - val_loss: 0.5652 - val_accuracy: 0.9000\n",
            "Epoch 107/150\n",
            "4/4 [==============================] - 0s 14ms/step - loss: 0.5162 - accuracy: 0.8500 - val_loss: 0.5624 - val_accuracy: 0.9000\n",
            "Epoch 108/150\n",
            "4/4 [==============================] - 0s 12ms/step - loss: 0.5236 - accuracy: 0.8667 - val_loss: 0.5588 - val_accuracy: 0.9000\n",
            "Epoch 109/150\n",
            "4/4 [==============================] - 0s 12ms/step - loss: 0.5260 - accuracy: 0.8333 - val_loss: 0.5567 - val_accuracy: 0.9000\n",
            "Epoch 110/150\n",
            "4/4 [==============================] - 0s 12ms/step - loss: 0.5204 - accuracy: 0.8333 - val_loss: 0.5532 - val_accuracy: 0.9000\n",
            "Epoch 111/150\n",
            "4/4 [==============================] - 0s 12ms/step - loss: 0.5195 - accuracy: 0.8333 - val_loss: 0.5507 - val_accuracy: 0.9000\n",
            "Epoch 112/150\n",
            "4/4 [==============================] - 0s 17ms/step - loss: 0.5294 - accuracy: 0.8417 - val_loss: 0.5482 - val_accuracy: 0.9000\n",
            "Epoch 113/150\n",
            "4/4 [==============================] - 0s 19ms/step - loss: 0.5109 - accuracy: 0.8167 - val_loss: 0.5437 - val_accuracy: 0.9000\n",
            "Epoch 114/150\n",
            "4/4 [==============================] - 0s 12ms/step - loss: 0.5191 - accuracy: 0.8417 - val_loss: 0.5395 - val_accuracy: 0.9000\n",
            "Epoch 115/150\n",
            "4/4 [==============================] - 0s 12ms/step - loss: 0.5257 - accuracy: 0.8500 - val_loss: 0.5364 - val_accuracy: 0.9000\n",
            "Epoch 116/150\n",
            "4/4 [==============================] - 0s 12ms/step - loss: 0.4831 - accuracy: 0.8750 - val_loss: 0.5333 - val_accuracy: 0.9000\n",
            "Epoch 117/150\n",
            "4/4 [==============================] - 0s 12ms/step - loss: 0.4964 - accuracy: 0.8750 - val_loss: 0.5302 - val_accuracy: 0.9000\n",
            "Epoch 118/150\n",
            "4/4 [==============================] - 0s 12ms/step - loss: 0.4825 - accuracy: 0.8417 - val_loss: 0.5269 - val_accuracy: 0.9000\n",
            "Epoch 119/150\n",
            "4/4 [==============================] - 0s 12ms/step - loss: 0.4991 - accuracy: 0.8417 - val_loss: 0.5237 - val_accuracy: 0.9000\n",
            "Epoch 120/150\n",
            "4/4 [==============================] - 0s 13ms/step - loss: 0.5017 - accuracy: 0.8167 - val_loss: 0.5207 - val_accuracy: 0.9000\n",
            "Epoch 121/150\n",
            "4/4 [==============================] - 0s 13ms/step - loss: 0.4796 - accuracy: 0.8333 - val_loss: 0.5185 - val_accuracy: 0.9000\n",
            "Epoch 122/150\n",
            "4/4 [==============================] - 0s 12ms/step - loss: 0.4696 - accuracy: 0.8583 - val_loss: 0.5156 - val_accuracy: 0.9000\n",
            "Epoch 123/150\n",
            "4/4 [==============================] - 0s 12ms/step - loss: 0.4761 - accuracy: 0.8667 - val_loss: 0.5138 - val_accuracy: 0.9000\n",
            "Epoch 124/150\n",
            "4/4 [==============================] - 0s 12ms/step - loss: 0.5270 - accuracy: 0.8000 - val_loss: 0.5107 - val_accuracy: 0.9000\n",
            "Epoch 125/150\n",
            "4/4 [==============================] - 0s 12ms/step - loss: 0.4851 - accuracy: 0.8333 - val_loss: 0.5064 - val_accuracy: 0.9000\n",
            "Epoch 126/150\n",
            "4/4 [==============================] - 0s 12ms/step - loss: 0.4562 - accuracy: 0.8667 - val_loss: 0.5044 - val_accuracy: 0.9000\n",
            "Epoch 127/150\n",
            "4/4 [==============================] - 0s 12ms/step - loss: 0.4839 - accuracy: 0.8250 - val_loss: 0.5020 - val_accuracy: 0.9000\n",
            "Epoch 128/150\n",
            "4/4 [==============================] - 0s 12ms/step - loss: 0.4508 - accuracy: 0.8667 - val_loss: 0.4988 - val_accuracy: 0.8667\n",
            "Epoch 129/150\n",
            "4/4 [==============================] - 0s 15ms/step - loss: 0.4929 - accuracy: 0.8083 - val_loss: 0.4950 - val_accuracy: 0.8000\n",
            "Epoch 130/150\n",
            "4/4 [==============================] - 0s 12ms/step - loss: 0.5152 - accuracy: 0.7917 - val_loss: 0.4924 - val_accuracy: 0.8000\n",
            "Epoch 131/150\n",
            "4/4 [==============================] - 0s 12ms/step - loss: 0.4410 - accuracy: 0.8583 - val_loss: 0.4902 - val_accuracy: 0.8000\n",
            "Epoch 132/150\n",
            "4/4 [==============================] - 0s 20ms/step - loss: 0.4442 - accuracy: 0.8667 - val_loss: 0.4885 - val_accuracy: 0.8000\n",
            "Epoch 133/150\n",
            "4/4 [==============================] - 0s 12ms/step - loss: 0.4560 - accuracy: 0.8500 - val_loss: 0.4871 - val_accuracy: 0.8000\n",
            "Epoch 134/150\n",
            "4/4 [==============================] - 0s 12ms/step - loss: 0.4291 - accuracy: 0.8583 - val_loss: 0.4853 - val_accuracy: 0.8000\n",
            "Epoch 135/150\n",
            "4/4 [==============================] - 0s 12ms/step - loss: 0.4622 - accuracy: 0.8333 - val_loss: 0.4835 - val_accuracy: 0.8000\n",
            "Epoch 136/150\n",
            "4/4 [==============================] - 0s 12ms/step - loss: 0.4397 - accuracy: 0.8667 - val_loss: 0.4808 - val_accuracy: 0.8000\n",
            "Epoch 137/150\n",
            "4/4 [==============================] - 0s 15ms/step - loss: 0.4466 - accuracy: 0.8583 - val_loss: 0.4789 - val_accuracy: 0.7667\n",
            "Epoch 138/150\n",
            "4/4 [==============================] - 0s 13ms/step - loss: 0.4338 - accuracy: 0.8500 - val_loss: 0.4769 - val_accuracy: 0.8000\n",
            "Epoch 139/150\n",
            "4/4 [==============================] - 0s 14ms/step - loss: 0.4939 - accuracy: 0.8083 - val_loss: 0.4745 - val_accuracy: 0.8000\n",
            "Epoch 140/150\n",
            "4/4 [==============================] - 0s 12ms/step - loss: 0.4247 - accuracy: 0.8667 - val_loss: 0.4731 - val_accuracy: 0.8000\n",
            "Epoch 141/150\n",
            "4/4 [==============================] - 0s 12ms/step - loss: 0.4189 - accuracy: 0.8833 - val_loss: 0.4713 - val_accuracy: 0.8000\n",
            "Epoch 142/150\n",
            "4/4 [==============================] - 0s 12ms/step - loss: 0.4659 - accuracy: 0.8333 - val_loss: 0.4687 - val_accuracy: 0.8000\n",
            "Epoch 143/150\n",
            "4/4 [==============================] - 0s 12ms/step - loss: 0.4183 - accuracy: 0.8750 - val_loss: 0.4667 - val_accuracy: 0.8000\n",
            "Epoch 144/150\n",
            "4/4 [==============================] - 0s 13ms/step - loss: 0.4464 - accuracy: 0.8333 - val_loss: 0.4646 - val_accuracy: 0.8000\n",
            "Epoch 145/150\n",
            "4/4 [==============================] - 0s 12ms/step - loss: 0.4172 - accuracy: 0.8583 - val_loss: 0.4629 - val_accuracy: 0.8000\n",
            "Epoch 146/150\n",
            "4/4 [==============================] - 0s 14ms/step - loss: 0.4023 - accuracy: 0.8833 - val_loss: 0.4614 - val_accuracy: 0.7667\n",
            "Epoch 147/150\n",
            "4/4 [==============================] - 0s 12ms/step - loss: 0.4426 - accuracy: 0.8333 - val_loss: 0.4602 - val_accuracy: 0.7667\n",
            "Epoch 148/150\n",
            "4/4 [==============================] - 0s 12ms/step - loss: 0.4081 - accuracy: 0.8750 - val_loss: 0.4587 - val_accuracy: 0.7667\n",
            "Epoch 149/150\n",
            "4/4 [==============================] - 0s 13ms/step - loss: 0.4250 - accuracy: 0.8750 - val_loss: 0.4571 - val_accuracy: 0.7333\n",
            "Epoch 150/150\n",
            "4/4 [==============================] - 0s 12ms/step - loss: 0.4853 - accuracy: 0.7833 - val_loss: 0.4555 - val_accuracy: 0.7333\n",
            "Model: \"sequential_5\"\n",
            "_________________________________________________________________\n",
            " Layer (type)                Output Shape              Param #   \n",
            "=================================================================\n",
            " batch_normalization_5 (Batc  (None, 4, 1)             4         \n",
            " hNormalization)                                                 \n",
            "                                                                 \n",
            " lstm_5 (LSTM)               (None, 4)                 96        \n",
            "                                                                 \n",
            " dense_5 (Dense)             (None, 3)                 15        \n",
            "                                                                 \n",
            "=================================================================\n",
            "Total params: 115\n",
            "Trainable params: 113\n",
            "Non-trainable params: 2\n",
            "_________________________________________________________________\n"
          ]
        }
      ]
    },
    {
      "cell_type": "code",
      "source": [
        "model.\n",
        "_, accuracy = model.evaluate(test_x, test_y)\n",
        "print('Accuracy: %.2f' % (accuracy*100))"
      ],
      "metadata": {
        "colab": {
          "base_uri": "https://localhost:8080/"
        },
        "id": "QGkPtLVQYiTi",
        "outputId": "09a4758f-49ba-458f-c542-25c14f810e2a"
      },
      "execution_count": 75,
      "outputs": [
        {
          "output_type": "stream",
          "name": "stdout",
          "text": [
            "1/1 [==============================] - 0s 21ms/step - loss: 0.4555 - accuracy: 0.7333\n",
            "Accuracy: 73.33\n"
          ]
        }
      ]
    },
    {
      "cell_type": "markdown",
      "source": [
        "RNN is mainly used for:\n",
        "\n",
        "*   Sequence Classification\n",
        "*   Sequence Labelling\n",
        "*   Sequence Generation<br>\n",
        "\n",
        "and none of them is our case so using an RNN is not interesting at all.<br>\n",
        "and since our data is not a time series data then there is no point of using RNNs."
      ],
      "metadata": {
        "id": "Q-theTenXo4f"
      }
    }
  ]
}