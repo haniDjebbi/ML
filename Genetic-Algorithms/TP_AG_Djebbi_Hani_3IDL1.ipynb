{
  "nbformat": 4,
  "nbformat_minor": 0,
  "metadata": {
    "colab": {
      "provenance": []
    },
    "kernelspec": {
      "name": "python3",
      "display_name": "Python 3"
    },
    "language_info": {
      "name": "python"
    }
  },
  "cells": [
    {
      "cell_type": "markdown",
      "source": [
        "<center><h1>Traveling Salesman Problem by Djebbi Hani</h1></center>\n",
        "\n",
        "\n",
        "\n",
        "\n"
      ],
      "metadata": {
        "id": "2acyB4jzCnWD"
      }
    },
    {
      "cell_type": "code",
      "execution_count": null,
      "metadata": {
        "id": "ktIumU8KCeUv"
      },
      "outputs": [],
      "source": [
        "# Imports \n",
        "import numpy as np\n",
        "import random\n",
        "\n",
        "from datetime import datetime"
      ]
    },
    {
      "cell_type": "markdown",
      "source": [
        "\n",
        "\n",
        "*   According to the problem description, 15 cities will be the starting point.\n",
        "*   there is 15! = 1307674368000 possible permutations\n",
        "* i will start with only 100 as my population size.\n",
        "* mutation rate will be 0.3\n",
        "\n"
      ],
      "metadata": {
        "id": "o3p_86yHDpQM"
      }
    },
    {
      "cell_type": "code",
      "source": [
        "# Parameters\n",
        "n_cities = 15\n",
        "\n",
        "n_population = 100\n",
        "\n",
        "mutation_rate = 0.3"
      ],
      "metadata": {
        "id": "I11Wbh8DDiBM"
      },
      "execution_count": null,
      "outputs": []
    },
    {
      "cell_type": "markdown",
      "source": [
        "to sumulate this i will use a list of 15 Governorates of Tunisia and for each one i will associate a random cordinate [x,y].<br>\n",
        "and as a fitness function i will use the euclidean distance.<br>\n",
        "![image.png](data:image/png;base64,iVBORw0KGgoAAAANSUhEUgAAAbYAAACRCAYAAACv151KAAAAAXNSR0IArs4c6QAAAARnQU1BAACxjwv8YQUAAAAJcEhZcwAAEnQAABJ0Ad5mH3gAACwKSURBVHhe7Z0J/FVTHsCPnRFJhEYm+zLKEpU1lCTLEIUksoxkG1vKki1bMyprxlKRyGRpSrIkxl40smVLhZC1yJrhzf3+Ouc57/7fe//37ttvv+/nc+pu7/3vve/e8zu/3/ktyyQCjKIoiqLEhGXt/4qiKIoSC1SwKYqiKLFCBZuiKIoSK1SwKYqiKLFCBZuiKIoSK1SwKYqiKLFCBZuiKIoSK1SwKYqiKLFCBZuiKIoSK1SwKYqiKLFCBZuiKIoSK1SwKYqiKLFCBZuiKIoSK1SwKYqiKLFCBZuiKIoSK1SwKYqiKLFCBZuiKIoSK1SwKYqiKLFCBZuiKIoSK1SwKYqiKLFCBZuiKIoSK1SwKYqiKLFCBZuiKIoSK5ZJBNhlRVFy5H//+58ZM2aMmTt3rt2SG5999pmZOXOmWW211ewWRVEKYdy4cXbpd1SwKUoE5syZYzp27GhmzZpltyiKUm6aN28u72IYFWyKEoGPP/7Y7Lfffmbx4sXmsMMOy1kD++KLL8z8+fNVY1OUInHdddfZpd9RwaYoEXCCjdfnscceM+uss47doyhKpVHnEUVRFCVWqGBTFEVRYoUKNkVRFCVWqGBTFEVRYoUKNkVRFCVWqGBTFEVRYoUKNkVRFCVWqGBTFEVRYoUKNkWJAWRA+eSTT8y8efPMjz/+aLca88svv0i2ky+//FL2//zzz3aPosQXFWyKUuMgsPr372/atWtn2rdvb/r06WM+/PBDM3v2bHPccceZ/fff36y99tqmW7du5owzzjALFy60n1SUeKKCTVFqnLvvvtsMHjzYnHXWWWbTTTc1I0eONMOHDzdHHHGEadWqlQi6yZMnm99++80MGzbMXHrppaLJKUpcUcGmKDUMZXDIVdm9e3dpyyyzjGwfMmSI+fOf/2x69epljj76aNHkOnfuLPtef/111dqUWKOCTVFqGObPnn/+edOzZ0+ZW5s2bZpsR3NDi1t99dVlHRYtWiT/o7lRT05R4ooKNkWpYZZffnnTtWtXs+OOO5o33njDfP7557Ids+Qaa6whyw5Xt4pKBKussoosK0ocUcGmKDXMFltsYUaMGGHWXHNN89RTTyW37bbbbrLsoMzO9OnTZbl169Z1hJ6ixAkVbIoSA7799lvz8ssvy3LLli3rCK77779fvCSbNWuWnGtTlLiigk1RYsAPP/wgTiGw9dZbmwYNGsgyfPfdd2bGjBmyjJfkeuutJ3FtEydONL/++qtsV5Q4oYJNUWLAu+++K+ZGYL7NB8/J//73v7Lctm1bs9pqq0ncW9++fUXAKUrcUMGmKDHg2Weflf8bN24sbv4+CLVXX33VrLrqqqZjx45m7ty55tFHHzW77rqradKkiT1KUeKDCjZFiQABzl999ZX55ptv7JbK8dNPP4ngAhxHGjVqJMsO5/K/+eaby3mfd9554mxy2mmnJePeFCVOqGBTlAisvPLKEgtGTFilQVi9/fbbstylS5eU+TXAmeSAAw4QzY0sJJgsr7zySrPVVlvZIxQlXiyTCLDLiqLkCPNW6667rizPnz9fYsMqCY4jCxYsEMcRtLEw5JN85ZVXZH6tYcOGZptttrF7FCV+qGBTlAhUm2BTFOV31BSpKBHQ8aCiVC8q2BQlIi1atDDbbrutXVMUpVpQwaYoiqLEChVsihIBTJFqjlSU6kQFm6JERAWbolQn6hWpKBH49NNPzd57721WWGEF88gjj+TtFUlQ9dSpU+XzpYDckX/4wx/sWnEh1+SGG25o1xSlcMhZ+s4778g7QbzlWmutZbbbbjuzww47mKZNm9qjckcFm6JEgLgwBNuKK64YSbCRlLhbt27mvffes1tqh8svv1yylyhKMSBJ95QpU8zVV18tRXN99tprL6kAf/DBB0sMZq6oYFOUCCDYOnToYFZaaaVIgo1g6X333Vfi4dJBvsdll81tpoDRLq8xRUd92O5v+/nnn0WTo8RNIanAtt9+e/Pvf//brL/++naLokSDrDn33Xef6d69uznmmGOkaC4aGiWYhg0bJtobKeHOP/98KZ673HLL2U9mRwWbokSAtFRobFEFG5x77rlm0KBBdi0V6qaxb88997RbMvPFF1/I/2uvvbb872A7Jh33imM+ZZ1UYO+//75U0abi9gcffCAClv3z5s2TvJPkwczGLbfcYk444QS7pijRIBXc8ccfL9rY3//+d8mc45g8ebLp0aOHPJu8XzfeeKM55JBD7N56QLApipIfgWBLbLnlloltt902MX/+fLs1PwKhkthvv/2QOmlb+/btE4EAskeXh++//z4xd+7cRDBaThx44IGJP/7xjxnPbeHChfZTihKNxx57LPlM8by98cYbdk8isXjx4kTPnj2T+y+77DK7p37UK1JRKgQaFlpZpiDvJ554wgQvs1m0aJHdUnpwOPnTn/5kevfuLeZGJvOHDh0qGqTPiy++aB5//HG7pijRwDzuGD9+vF1aAo5VG2+8sV1bYnHA2pALKtgUpYKQYf+kk05KlpYJw/zDyJEj7Vr5CTQ2c/rpp5uHH35Y5hQdgWYn56YVuJVCoCgulSdg//33F49bH9/Ev8Yaa9il+lHBpigVhknzww8/3K6lgsfYiBEjzPTp0+2WysDcBxra8OHDk0KYc6Jyt6JEBcHFM4Wr/x133JFSmYKSUFStcFBrMOwglYmaEmy4Rp966qnmqKOOEs8upS4zZ840Bx10kHnwwQftFqXaIWTgwgsvNO3bt7dbUsGD8pJLLhHHjkrTq1cv6YiY7J81a1ZkbRKhSLhDv379xDNOqW2cY0eUARgOTZtttlmdckuExDzwwAOyTJmlcGX4bNSMYMO+evbZZ5sbbrhBOgKt/JseOhw6QGI/Jk2aJO7dSvWD6zzCjRc8HRMmTDDXXHNNypxEpaADI+YInn322bwFLoMvqnePHTvWNG/evGRB6kr5QKPnWTjiiCPk/0JhLu2hhx6Sfh/o+wkzyRnrRFJyFi1alAhGnolHHnkkEbwUicGDB8v/F110UeKrr76yR6Xnk08+SRx66KHiGdOpU6eye4rVGqNHj040bNgwEYyExOtIKT54RfI80qJ6RabjqquuSn5vuOGhyG9bDeA9uf/++8t53XTTTXZr/bz22muJNm3ayOe6d++eCAS13aPUOuedd578ru3atUsEws1ujcatt96afO5vueWWxJdffmn35EbZBNtxxx2XPFG/BSPVxMsvv2yPqsvXX3+dOP300+XYnXfeOfHee+/ZPUo2Tj31VLlnO+64Y2Lq1Kl2q1IsSiXYvv3228Rhhx2W/O5w4x3wXaIryeuvv57Yd999JWQhFwH16quvJg466CC5jl133TXvzkqpbgItK9GxY0f5ff/617/KICYKzz//fKJFixbyPRMnTpSwmHwpi2AjHoEYBeJ+GjdunHxJafvss09Wja1v375y3IorrpgYMWKE3arUBzFGbdu2lXtH5zNnzhy7RykGpRJsgEUCAea+P9wOPvjgxGeffWaPriw//PCDtFw455xz5PwbNWqUmDBhgt2qxAkGLygr/M5dunTJ+zl9++23E3vssYd8HgH3448/yvZffvlFWq6UTWND05o2bZqYUrbbbrvkS9q7d297RF3efffdlM4Zc6aSO+PHj0+ss846cv/69etntyrFAMFGB73uuusWXbDB/fffn2jatGnyPQk3fs/ffvvNHl39PPXUU8lReK9evexWJY5cfvnlyed04MCBdmv9IBQxY/I5rAGOX3/9NXH00UdLsDZKUi6UzXlkk002kZgFJsd9F+FddtnFLtWFAFECQfGW6dOnj2nQoIHdo+RC586dTceOHWX56aefNq+99posK4VDHsdVV11VnHXI1F9sgtGueP9mYtSoURJHVgt8/fXX5q677hLXbYLRBwwYYPcoceSUU04xO+20kyyT3Jj0bfURDA4luTYJAd54442U1FokKCD1FingcnU0KrtX5HPPPSfBnUA8TCZPF4Tfo48+KsscQ5ZnJT9IGIrrP5A1m85FKR4MuHjZVl55ZbuluOAJxuAkHYHGaAYPHlwT1QF4lwONTZZ5j/GEVOIL/foee+whywg2gvuzwcCHvKkkPubYH3/80Xz44YfJ9tJLL4nA22ijjewn6qesgo14lRdeeMGuLdHi0iWPDTRJcW9+5plnZH2fffYpWW2puENH4kY/uOESe6TUBsT38MK3bNnSbkkFa0bfvn3NwoUL7Zbqw8W68T8dHrFrSvzp2bNncsCHcHNu+2FIQEAJpDvvvNPMnj1b+isse6R1c41k4+Cn16qPsgo2Au44eQfFChs3bmzXfge1lJeWmB32Z8rKoNQPaWh4UIBBBQMGpXbYfffdJaVVpnRC48aNM0OGDLFr1Qejb0qPwJZbbinFI5X4Q5aQFi1ayDLaOubFdNAn/fOf/7Rr2eE7c6Wsgo2gal+w7bzzznYpFW4ECWABia11nwrDHyWjBS9YsMCuKbUAo1/Kd2SClFsTJ060a9XFPffcI6Yk2HzzzSW5grJ0gKUNsCg89thjshyGsknUYuMZz9ZQbqqi0CgXQ9YL5nmcuZF6O5hOHEjxdGlSyMAwcOBAWXYpfLKBHZbLIFr9yy+/lEl9lmnUy0LSM+mIxohKzHkhLHEAwCGFLOuYfSoJKcIQ+tTQwhlhgw02ENNNkyZN5Hp8SFvDtWHaRRvjGrNBUUweMu5369atzb333qvzHAWCVcG9uLy06UzqxYRcemhubt45DE5Yo0ePloFgtcDziQMMzxvwHvM+FwLPspuWCGux7ON9drkslzboA3ku0ZLp09IJAtcv0x/S55Uyg9Nbb70l0yDkfDz00EOlcGi4n2VfruRaeFdAsBULXDGJOCebSCBhJcMA8WvEohFHxTb+JC244ETQidtP/k7QqSczGtACNdXuSU8gqBIbbbRRYsMNN5QYueWXXz75WRoByk8//XTi7LPPTgQvf8o+XLXZ37lz58SVV16ZCLQZ+63lg2DboUOHyn3adNNNxYU8EFSyvNtuu8m9uPPOOxPz5s2T4z/44IPE3nvvLecfCGxZrw+CZ13mFuIBH3zwQbtn6QV3/ULguWvZsqW0Urj7p4NEBs5lPl074ogjJCNItcAzSyA25xZ0pIlAONs9+cE1kWSATEUketh+++0llm/AgAHyNwgMnjJlSuKAAw6QPmZphGewf//+Ev9Iv0GQ/6BBg5Lu8bNmzZJ+mQB5nln+J4nDm2++mVd8WD4Qn0y9Qn7/QFuXkI9yUTTBRgf7t7/9LRl7E4ym5AF0L91ee+2VCLSQ5PohhxxiP5kKAX1bbbVV8rjHH3/c7kmP62Dc8eEWaIRyLun2hdvxxx8vL0i5CEbfWQtNuhZobYkzzzxTBDSpyNz2bbbZJifBBn7ml0BztluXTlzCAApqRoU0b+UWbHD99dcnAg0++VuGG51ZtUCnuckmm8h5EU8ZJYME8a902AyE+R5SxflxsCeddJJkJtp4442r7vrLBQHy559/vlw/afQY5LO83nrrJR544IHEmDFjEh06dEgEmq48r34/TNwYMZOlgDhLN7BZbrnlak+wEUhNlLm7WYymiCBnpIW2gXBx+1xjtJUOOnv/uPoyZiDY0Lj23HPP5EuUrqEBnXzyyZK9hBeOwHD3MoTbE088Yb+9dPzrX/8SgRX+27y0V1xxhWRmQIvcfffdU/b5D2U+go2AXve5TIOKfEDjeeutt0raonSEucDghcHOjBkz7Jb8qZRg453KlJ6OxsiYjA3VAB2qO6/NNtssmUUiVwjSPeGEE5LfQZKG2bNnS6IG+hWXvME1Ou6XXnrJfnrpgb4C6xOKBP0ugx93T4466ij5H01/5MiR0lcvWLAgce+99ybWXntt2de6deuCLRiZ8OUCgdvlomDBxqjXP3lGBuEOadSoUcn9NMwSfmS5D1LdHcforL4EyUB+PR72Cy+8MOXvuHbkkUeKKh4G06NLyOo3zJOl+qGBa08n7EklE74vmBFd3sdwy0ew/eMf/0h+joFAvp2MD+m6wmbdUjS0WUzTxQSzC4Kd77/jjjvs1vyplGADnlves/D9cg1TNedXafz3ns4zH+iAncmdRsLk7777zu5dwhlnnJHcT+O3+PDDD+3epYcTTzxRrv+SSy6RdQY2/n1p3ry5DATCOC2YhlZcCvr06ZP8GyyXi4K8InFyCDrMZM0cnBwIKmXi0gevvFatWtk1Iy6/mSbbcQRxNGrUKKfgVyZJmTROV4SOOj5kOkgXAxGoyVK1NQxeXKWqWozTR6CRmUBrtFt+59hjj02JuAe8yAYNGmSCTt5uiYYfVsE5MIEcFZxVmAzu2rVrXo1yJ3wuXWNfuAUj9KJ70REE+p///EeWKYtRzTFgmeC5PeeccyQONB0UBA20ffmdK4nvAZ2PcxYBu7yzXAdQxRvHs7AT1cknn5xSwwvHmUBzsWtLBwTok5WjadOm8o6Bn4iBvjYYAKTNYuNnfSIkI1Ai7Frx8Cti864tXrzYrpUYK+AiwfyXb/4LOii7JxVGjzvttFPyODSoTOAs4o5j4jGfiU3Me+6zrqHVOMeLdKDJUQ4k/DmSM2O7LjYkuMVcFP57mBGyTfyPGzcuORHrWj4aG+YK9zk0w0JH9Gh8jKDzaWjVXCONe+sa3+UaGpprxS5pgpNBIDCT9wFTDPnpolBJjc2BM4C7lnALOvzE8OHD7ZGVgTl3dz49e/a0W+uHfLLMybnPXnzxxXZPKpirg0Ft8jjux9IG+XebNWsm7zTWLd4bpmXcPcGyQoWUdNBfu+Pox0tRDoySM+5v4NyDda0cRNbYyN917bXXpmSy+Mtf/mKXUglefHH9dOBynomgc7NLxjRs2FDCBXIlyuieER4jwjC43xM6UGw+++wzuR9hcOvPll0FTa4Q11zfNZrAd1yxCwFNmhF0Pg2tmmukkYrKNb7LNbRB14qtrRHu4LQ1ILQiEGx2rfYgJ59LmRYGref6669Pee/Kja8N56qxffTRRxIewHsChOWgvaeD9Hz0Qw6XxqmUEHdFkVU0yGI3ciWSKi0feE9IdEHqNbRX7ptv9SKcCstXGDQnX6MPBmrm119/tWvFw9egeR4K7Xdyxgq4vMHBgo+7hidOppHBDTfckDyOSc5sdXpuvvnm5LG4pOYDXoPus67Vp7GBP8JxDSeNmTNn2iOKhz+h7jfqF2UDzdL3BqPlo7Exd+c+h8ZYaCHAWoMM4V27dpX5Xf8eduvWTeYM86UaNDYIOvcUa0i4EQJQKXim3Xnk6jiAh55//lwbmnY6yPjujkPjyDa/hiZTjGoIeBn651fsdtlll9m/FI2w812mcCnuVatWrZLHETqUqU/AkhI1JOCFF15I/g0c+Jg7LQeRNTY/5yOQLifdyCD4GzKycgSdatZgVj8Ir1wZMsKBnsCopxSji0wjslIH1n7zzTd2aUny3qUtmwtzmk8++aRkHWeE6yDLjT/CrTXI3tO7d++UuQwHmfRJdlAp/PmUXOdvpk2bZpeWwBxROqsNo3+C1h1UDUk3v0YAMLkKSQwxdOjQgt9prE2B8BHtqtjt0ksvNUceeaT9S9HwLRLcj6222squpYImP3fuXLu2pP+mbw4zZ84cc9VVV5l+/fpFmo/GKuLgGfXnREvKEvmWH4ygmCfj465R0j4djGwJGHTHMcrKBsHD7th859iiamzE2IU/h8ZGWEA2oowAb7vttjp/i1bf/EChGps/x8b1FhLDBTwD5WjFgN+pR48eMh9z++23J4455piU+5jOY6w+8JqtBo0NmIsMewSjlUedPywWxF6688lljo1nmd/Jvw7mzdOBW7s/DxcIBbsnFcKBfM2kVCEk1QDPAb4B7lqZd8v0bAaCNHkcjRjeMMyH9erVK3lMlDk4f44NC1y5qqZH0ti+//77lFEu6VkOOOAAu5YKNt90+SEZSaG9fPfdd7LuQKI7T8hy2GT5/p/S1NNi3i1dShpGOhdccIE58MADxSuLjPlBB2z31g+lF9J5b2K7LyX+iJm/X4h3Erb44IGt4/VYzIanZCCEiuJFhbb2yCOPmA4dOshzGgyu7J4l4B3JnGqtwlwknpJuTpL52DvuuCNjVYBywbyxI5f5aubX/X4FSwrXlQ7eOzcPB67uYBiedfoawDuQviquMHfv+zxsuummaa1jvL++xY3+1vXLPszpO0sP85z5+Ds4/N+I+XTm98uCFXB5gfeNH8eER19wAXZvKjfddFPyOOIp3CgSLz+CNglG9iFtkPNSJI4t07xdOqJobOzzM6S4xsgHu7wPc26+9kkjHi2fyH20QFKA+d9By+RR6ihUY7vmmmuSnyNNF16KUSHAM3gRUs6lFK1Tp06J4MWyfzU6BDQHL68E5wNBvv5vwMg/U1xlJqpJY+O5dBl/8IZ88skn7Z7Kgibs7nEucWyk3OI49xk0rfA76EDDcMeRqejFF1+0e+pC2rpgYCPPbZwJ+z0MGzbM7kmFPtZPThEMJDNqsnhdjh07NrKFx49jIylGuYikseGJQ9yEgxEiHoxhGCn5NnMS77oRBNWxKUAYLluDluTm6hgt5DOSxhMsHW7Elg6yj7uyGj5cE9fpwyjR1YhzoA3gfRYIGLslO82aNUuZ43G4BM2ZIPltpuvLBd/WzQgNL8WoMJIeM2aMnHMpG1pHoQlt+X3Gjx9v2rZtmyzaucEGG6TE8DCqfOWVV+xabcE8yWGHHSZebUD8Wjm8A3OB++zA+lLfaJ1335/vZt4n/A4C1g1fM8EKEgxO7Vpd8AwkYXW6ufQ44SqiAPd+zz33tGupPPjgg8mq1syrnXjiiXVijx0kWcd6EtUHwNfYMv2NkmAFXN6Qn42P09q3b2+3pkIkfNAxJY8jQp75DrxsGPHTwl4yaH5kxnCfmTx5st1TP+k0NhqZO/CKC8PIPXh56hzPeTE36IP9+thjj61zrGtk9sgVPJcaNGhQ5zs4z3QwYmLOL3x8Phqbn4Yp03xoHEF7WX/99etYBojB9O8lSWPzibGpBo2Nv+unXOOdzBYLWW6wTrj3C624vvktYhr93Kmk5ksHCc3dMbQLLrjA7kmFfgYtrRDrRK1A/9SxY8fkPcFLNF1qtWAAJx6Q7jhiDdNpxfwWPOPpEtXng8sVSQsGmHZr6YnsFcno10lg5m98DxvAc+iiiy5K8b5DU8BuS5mP1157TbKRhDU9tDV/lO5GFoWARkXNH0Y02PrRBMkuwrZ0cT7XXXddHS8zvDWzjVpy1diAEXUgaOza73CeVJMl3mrevHlm0qRJksmFVojnHvOIzlbOCHiHHXaQ5aWBdu3amZtuukmyuvgwyvdL9+BNls9vWGmwZJx22mkmGMzJOnOHeEBmi4UsNzxr3GfA2lCfVx1zMG3atLFrRuZ0/M8w30ptLrId+VCMNQye2EGnLXF+vFfM58cZNCMsYA40Wq7bh+ebZ4ZMJUD/h7doWCumb0TzJysT8XVR+x682p0PBXKgrJ7YVsDlDaNbMmvzFTRGWiTZJLkm3i9sQ6Pw8xwyj4QtnPkrRnJoIunw497IB5cr6TS2QCClrDMXQTyFn7HANfLRZUui+tBDD8noP/w5GtefDx999FFi4MCBCUrthL8rEKDS/G3pNMtcNTa0T1fuhMSxgTC3e5Ze8LYNe/bmkzuykhob5+5bTBgV8zxVG1hnzjrrrOR5jho1yu7JDM+qP3+PN2Uw6JA+gUz0bPPfQTLYBx2v/fQSiJPlO8j56jRALCqFah/VDHOI7p74jSTIzDHiBem0J+Zh0dTC9w14rtGU6SfPPfdcOR5PdrbnC9Y4V0YMy0Ku1qViEFmwAY4XdM6BBpC8ka6RpJVkrai+3Cgyb7t9dObcaB78dGCqCzQ3OZY0LLmSTrDhNEAlAcyl4X000iox+Yy7NCUysoFJg5pQuFIHo0v5vEtzVV+AdTowH2ASw/SKY417CFxbccUV5d5Szy5TurBcHhay2bvPMLgIm1mXVsKdAbW8SPuVC5UUbH5CawYsUeuclQMcSNy7n+s7wnvIoDmc6o7kDnTUvuMPyRV4jxxMZVAFgMZv5Dpn3lNc/+OKP4BYddVVpT8LD5rp6wj1ue6669Iml2fARAUUBg4zZsxICZYnvCJfKCHkPk+/k246qFQUJNgA+yzZDyixQokJRgL33HNPij0d4YZ9Fe2NB5blbHMBjKyc9yHzXfXFoTnSCTY8K/k8Dzz77777brnhgZounploaPmOdvE+mjhxojTOj79TSB0oOlPmIxBAt956q8R+IED5O8wD8kBwj8PXlqtg8zVr6rkpS8DT1J+7ZPTP6DYXeKYqIdj8AY7rgKoZOkSeU84Xa8FiW/iyPvCG5VrPO+88yQ5DR837gUefG/TSqEPmg3aHNQYNj/k1BBzH0bEujJBhphZAsPve2gyGuVbX53LtKBL0J9n6CzzWEX7EeYKL92TgH8Ui4CpQrLTSSmLNKycFC7ZSwYQwNwXN6L777rNbs5NOsFHzLFfBmC+MaJwTCEKylEQVbJiMXTgDo1atnv07dLKknPLvaa7myEoINgZhmJE4T7Qg0hVVOwx83cAKgVSoICZkw/1WWDiwePjg4s5vgkYyffp0GaxwbKYA7jiASdEPVsfJLQr0swgxTIgoAiRX5vtwrMp1QOLAKuQGIAi4SZMm2T3lIbLzSKkJOhwJGiRoM7jhWV32s1HsRLqO4N5JADGTowSR+mV5qgkmgnF5hxYtWmQMpF8aIVi3R48edm0JOOy4Ce9qAicn3PpdyAfPHiEM1Q6OCTgp4HKPM4ErcRUVPz1fMLCrkwYq0DLM888/L4ke7rzzTgmh2WKLLdKWp4oLhKrgPOJI50yTC126dJGyTgR20+eSkBpwFMw3sH306NHJlIicT6dOnWS5XFStYCOGxcUaEWeGp2AUwh4/xQLPSVcvCqHmx/VVE4FWKfFDxM+Rhy5K9oA4Q45B7o0j0PqrLndkoJWLcHAZfIYPHy5CrlbgXXaeuAidQMOV5XxhwIE3tYNYrXBmDRejiac2sZ/AwBPBGlfIgeogVi9b9ZRs4LHusoPguQ54Fec7KCAzlbv3u+22WzJ+tJxUrWDjJvfq1UtGpbixksA0EzNnzpQWDjkAOnKK8bHfT5paCC+++KK57bbbxI2eUSMuxX7y5mKS7dpIjeOujRZm+vTpyYByinYSpKqkQufoB2t/8sknMmqtFghGxsWdgHW4+OKLRagVUsKoWCBwSd57ySWXiAUjEyRhOPzww0UITZ48WYL7o0CJIT88hyTPmSwyBCE7t3bKaaFxIFDpdOMEfZCfYIKkx2Fhny+ECriUWwg2tF/uHYOFXOD3ZQDDIAOhWBFrlhgkq5ghQ4bIZDAeUUx+hsHTyS92mq0RZlAoOBy4dDT5zP9FAQccP/VNtkYZfR88OLle9jGZrC7+mWGS3b+XzLtx/7JRjjk25ke7dOmSPC+cs8qVRDYXSLjAeeUS6kKwtEuD1aZNm5wT6jKHhuMIHpWBgEreCxrPNx7DOJj4wfU4U+AwwTHMK/P7EGbEOmWj4gDXc+2110qSYvwI3D3BmY3fBacaPFKjwHwk34VHOc463D+ec36/+qA/Zp6Oz/MbVMoTteoFG55Nru4SN2rOnDl2zxK4cVtvvXXyh83WqJ5cKC5bNQJnwoQJdmtpQLCRizJ8HelaOEtD//79ZXswUpWKAkpmmCz3XctZDjRguzc9OO2UUrDhek1uPXdOxIZWU6wazkw4B5BZiBqKucC7i7s514P3dH1eigjDsDDL1Pzfi7yG7r3BfR0QjsSC4mUcB/w4xkwtisMM/S1hL3weIUkGEjzICT3CS7U+3ECMOnrE/VaKZfgnOJGqBpMHWQTGjRsn5slBgwYlK/KiIp900kkS1e7XY8JO7M+voV6ThX/UqFF2SzT4e/x97PZMtpYS8jsGI9U6NanC14Y5kmu76667ZB0zDPnf+DzZXzBfKZnhfmLuC15cu8WYkSNH1qkC4PPxxx+bQFMRExzzEYWaf8Jg4qOKBATCwATCQyb1qwFMUpgWMSsyh4JDSK4VsjEn8g6TUYh3GjNmJjC144RATTCef9Z5zp0jA78b72PQ+Zphw4Ylc0Filie7D8//ww8/LOdG3kRqirl7WsvgSHfjjTfKdboMSdwbzNY4bHCPuF/Udws719QH9xOHKrI08dtg9mad3Lk33HBD1hyzZJsaMGCAZGgKNEZzwgkn2D0VAMFWCzCqdpWCic1gRLs0kCmIPRMEpZIVnftETsh8P7+04tcBpGGOzBZriSmScItSaGyYkFyOVbJnZKs4X26IMfWTHZC3MV8wL5KQAFf8qOaybGCWdFll+J9AZWKyqjE7S7VBf0EAt3v2yNJEEDyxyNkgqQYhB8SFZqoqUE5qRrAB8RrYjymzkGuGiKUN4nyY8whGdGJGUHKD7B0u5olG8HO2eclSCTZiMen0OQfKOk2dOtXuqTzE0fmlk5j3zjWgPQxzN5itMEnmGyOVC8Rh0cEyCCY4OF36KCU9mIi5Z8zfEeieS2YbhCHTIXfddZfdUllqSrBBoGanpNBR6qL3J38IJGbA5DptWrZsCaUQbAhSvpO/vdZaayWeeuopu6eyEOzMfHLYSYtUcIU8a1hdeJ+V6iQfaw/HVlO/U7Xu/pnAdlyqoOu4oPcnf5izZN7Ih6rbJAgoB8TOMSfBHBShI1QkwNW6UjBvxdwtczndunWTwH7mqX1IoFDIs0Z1a3/uWKku8gkp4dhq6ndqwnlEUcoBcY4IE5fFgcBtHEPIXBGmmM4jODmQMQNHBxgyZIjp3bu3xAGVkkBLFWcDBCmCNRh1S5wYcXys47SRKTEC8VKcb9QClIpSSlSwKYqFjv6oo46SdEKOTN6RxRJsZNM45ZRTpFo47L333uJ55ka/aDXUWHMNj0C0HDzf2Af+MrAOCCo0L7ROGsHJCDE86DhvrhcPR9J0IVxdzb5cQLul+ryiVCMq2BTFY+zYsWJ6c7CM0AlrT8UQbAiY/v37SzHHWmPKlCniQq8o1UjNzbEpSikhUbSrDA+kTyOOshSQb5S5tFqDVFbcJ0WpVlSwKYoHc0Z+dnTmmhBuxYYA5TPPPLMmcxeSezHXgGxFqQRqilSUECRxpWySo2vXrpKxxs/2UqgpctGiRZKVnWzqOHAwz1VMD0y+izm5TNTn8ZZtP4ltN9poI7umKNWHCjZFCYFnIKmiXDZztDiEFyVuHMX0ilQUpbioKVJRQoTNkcyxuTIeiqJUPyrYFCUEJrxDDjnEri3hoYcekqS7iqJUPyrYFCUNVFRo1KiRXTPJoGVFUaofFWyKkgbMkX5KKyqYP/fcc3ZNUZRqRgWboqSB7B8HH3ywXVvChAkTzOLFi+1aeXCZQyoFmVEUpdZQwaYoGdhhhx1Mw4YN7Zoxr7zySlnNkffee6+EGlDwkZRX5YR8mVdddZVp06aNmmCVmkMFm6JkYIMNNkgxR5IU+Nlnn7VrpQVNjSrGJBq++uqrpdJAKcExZurUqea2226TwPFDDz1U0n1RpVlRag0VbIqSgQYNGpiDDjrIri1h/Pjx5pdffrFrpYOkxvx92Hfffc2uu+4qy6Vi/vz5pm3btlI6h8TPtZgRRVEcKtgUJQutW7c2q622ml0zUi+tHKY5svufffbZ5s033zQ333yz2XDDDe2e0kB+TGqvTZo0STxAFaWWUcGmKFnAHLnHHnvYNWNmz55tnnnmGbtWWpo2bSp1zziHUkPsXp8+fUynTp0kXZZfBkdRag0VbIqSBbQ1kv76YI50Nc9KAY4izOdV0mlDBZtSy6hgU5R6wDMQ93/HjBkzzLx58+xaceG7BwwYYHr06GH69esniZIrAcVMFaVWUcGmKPWAKdAvqok2NW3aNLtWPBCWffv2lUDw7t27S4VqarbNmjXLHrEEHD1I0Fxoy5b/XAWbUstodn9FyYFbbrnFnHjiiXbNmH322cd8+umnslys7P7nn3++uf/++83kyZPFSYXyMMByy5YtZZlg7Z49e9YRdmGozp1NOBFoPnjwYLmOdHTo0EHCDQAhvuOOO8qyotQCKtgUJQdef/11MUm6LCDNmjUT8yTei8UQbFQQ6NatmwiUyy+/3Jxxxhlm6NChZsstt5QYNt+BZNy4cUmhmomffvrJrLzyynZtCX6NNUIWqDmXqWAoAo/rAtKJkWJMUWoFFWyKkgPffPONmAcJmHZssskm4k1YDMH2+eefm2OOOcZcc8018l38rUcffVQCpW+//Xaz+uqr2yPLQ+fOncX1H1SwKbWGzrEpSg6QWsuZBh3rr7++XSqcJk2aiCaGhvbOO+9IFhDYa6+9yi7UQOfYlFpGBZui5Mguu+wipkdHsfM38t2//fabGTt2rFm4cKHZYost6tSFA8yIhBsU2rKh7v5KLaOmSEXJEYQNJkJnogOcOorlPAIff/yx6dixo+RoxFmFrCMkJOY1XXfddWXu7IorrjAfffSR/UQ0yA05cOBACcZOB8mX77vvPlnGC7R58+ayrCi1gGpsipIja6yxhsw9lZJbb71VhBqmwMMPP1y0wvbt20tsG9oc25dddllZLqThSLLCCivYv1oX1diUWkY1NkXJA1zvcX13iZCLqbGhjeHKP3bsWBGgY8aMEZd76sLhGelc851gKpRs30GA+OjRo2VZNTal1lCNTVHyALd7HDpKAYJtzTXXlOXGjRtLSq2LLrpIsvuTjNmBxoZQKrT5UCZn+PDhojFi/vS1ubvvvlsSJA8aNEhqxClKtaMam6LkCdlATj/9dFku9hzbiBEjzGWXXSYCDpPkxhtvLO7+vmArBYQbILCpJpANzu2CCy6wa4pSnahgU5Q8IZ9jq1atxCRYbMGGUwcptcg+0qJFC6nDRjB4qSETyfvvvy8ZS1ZZZRXZtmDBAtOoUSNZhq+//loErdMqFaVaUcGmKHlCB0/WDgRasQWboiiFo3NsipInaCzULVMUpTpRwaYoEXDFR/2AbUVRqgM1RSpKBDBHEjjNfJS6witKdaGCTVEURYkVaopUFEVRYoUKNkVRFCVWqGBTFEVRYoUKNkVRFCVGGPN/uip68rhbYtMAAAAASUVORK5CYII=)"
      ],
      "metadata": {
        "id": "AxDF_ufzJQLs"
      }
    },
    {
      "cell_type": "code",
      "source": [
        "# Generating a list of coordenades representing each city\n",
        "coordinates_list = [[x,y] for x,y in zip(np.random.randint(0,100,n_cities),np.random.randint(0,100,n_cities))]\n",
        "names_list = np.array(['Tunis', 'Ariana', 'Beja', 'Nabeul', 'Sousse', 'Bizerte', 'Kairouan', 'Sfax', 'Ben Arous', 'Gafsa', 'Kasserine', 'Kef', 'Mahdia', 'Manouba', 'Tozeur'])\n",
        "cities_dict = { x:y for x,y in zip(names_list,coordinates_list)}\n",
        "\n",
        "# Function to compute the distance between two points\n",
        "def compute_city_distance_coordinates(a,b):\n",
        "    return ((a[0]-b[0])**2+(a[1]-b[1])**2)**0.5\n",
        "\n",
        "def compute_city_distance_names(city_a, city_b, cities_dict):\n",
        "    return compute_city_distance_coordinates(cities_dict[city_a], cities_dict[city_b])\n",
        "\n",
        "cities_dict"
      ],
      "metadata": {
        "colab": {
          "base_uri": "https://localhost:8080/"
        },
        "id": "IAUO1kMvEyt7",
        "outputId": "c72c73ea-6e0e-4f6c-8c84-3fc83be9aab8"
      },
      "execution_count": null,
      "outputs": [
        {
          "output_type": "execute_result",
          "data": {
            "text/plain": [
              "{'Tunis': [81, 29],\n",
              " 'Ariana': [19, 90],\n",
              " 'Beja': [54, 44],\n",
              " 'Nabeul': [43, 83],\n",
              " 'Sousse': [97, 11],\n",
              " 'Bizerte': [91, 39],\n",
              " 'Kairouan': [65, 6],\n",
              " 'Sfax': [35, 55],\n",
              " 'Ben Arous': [54, 54],\n",
              " 'Gafsa': [9, 20],\n",
              " 'Kasserine': [30, 82],\n",
              " 'Kef': [83, 92],\n",
              " 'Mahdia': [42, 73],\n",
              " 'Manouba': [47, 97],\n",
              " 'Tozeur': [67, 46]}"
            ]
          },
          "metadata": {},
          "execution_count": 7
        }
      ]
    },
    {
      "cell_type": "markdown",
      "source": [
        "#1. Create the first population set<br>\n",
        "We randomly shuffle the cities N times where N=population_size"
      ],
      "metadata": {
        "id": "2weegyW9GG37"
      }
    },
    {
      "cell_type": "code",
      "source": [
        "# First step: Create the first population set\n",
        "def genesis(city_list, n_population):\n",
        "\n",
        "    population_set = []\n",
        "    for i in range(n_population):\n",
        "        #Randomly generating a new solution\n",
        "        sol_i = city_list[np.random.choice(list(range(n_cities)), n_cities, replace=False)]\n",
        "        population_set.append(sol_i)\n",
        "    return np.array(population_set)\n",
        "\n",
        "population_set = genesis(names_list, n_population)\n",
        "population_set\n"
      ],
      "metadata": {
        "colab": {
          "base_uri": "https://localhost:8080/"
        },
        "id": "WKXvUIaBGB0r",
        "outputId": "b972ddbc-1864-4467-a584-bf62b5d810ac"
      },
      "execution_count": null,
      "outputs": [
        {
          "output_type": "execute_result",
          "data": {
            "text/plain": [
              "array([['Mahdia', 'Bizerte', 'Nabeul', ..., 'Ariana', 'Ben Arous',\n",
              "        'Beja'],\n",
              "       ['Ariana', 'Sfax', 'Manouba', ..., 'Kairouan', 'Tozeur',\n",
              "        'Bizerte'],\n",
              "       ['Tozeur', 'Kairouan', 'Mahdia', ..., 'Gafsa', 'Manouba',\n",
              "        'Ben Arous'],\n",
              "       ...,\n",
              "       ['Gafsa', 'Nabeul', 'Manouba', ..., 'Ben Arous', 'Sousse', 'Kef'],\n",
              "       ['Beja', 'Mahdia', 'Ariana', ..., 'Tunis', 'Sfax', 'Gafsa'],\n",
              "       ['Nabeul', 'Ben Arous', 'Tunis', ..., 'Kasserine', 'Tozeur',\n",
              "        'Bizerte']], dtype='<U9')"
            ]
          },
          "metadata": {},
          "execution_count": 8
        }
      ]
    },
    {
      "cell_type": "markdown",
      "source": [
        "#2. Evaluate solutions fitness\n",
        "The solutions are defined so that the first element on the list is the first city to visit, then the second, etc. and the last city is linked to the first. The fitness function needs to compute the distance between subsequent cities."
      ],
      "metadata": {
        "id": "O1b5XAxWGZxV"
      }
    },
    {
      "cell_type": "code",
      "source": [
        "def fitness_eval(city_list, cities_dict):\n",
        "    total = 0\n",
        "    for i in range(n_cities-1):\n",
        "        a = city_list[i]\n",
        "        b = city_list[i+1]\n",
        "        total += compute_city_distance_names(a,b, cities_dict)\n",
        "    return total\n"
      ],
      "metadata": {
        "id": "nU-K34wXGXRj"
      },
      "execution_count": null,
      "outputs": []
    },
    {
      "cell_type": "code",
      "source": [
        "def get_all_fitnes(population_set, cities_dict):\n",
        "    fitnes_list = np.zeros(n_population)\n",
        "\n",
        "    #Looping over all solutions computing the fitness for each solution\n",
        "    for i in  range(n_population):\n",
        "        fitnes_list[i] = fitness_eval(population_set[i], cities_dict)\n",
        "\n",
        "    return fitnes_list\n",
        "\n",
        "fitnes_list = get_all_fitnes(population_set,cities_dict)\n",
        "fitnes_list\n"
      ],
      "metadata": {
        "colab": {
          "base_uri": "https://localhost:8080/"
        },
        "id": "615k1buOGqfD",
        "outputId": "43aadcf0-2a56-459a-c49d-6bfe3e8b245e"
      },
      "execution_count": null,
      "outputs": [
        {
          "output_type": "execute_result",
          "data": {
            "text/plain": [
              "array([815.0292021 , 568.63232616, 758.99538803, 736.47394166,\n",
              "       599.49437098, 688.31328047, 745.81338605, 732.66038222,\n",
              "       698.73952395, 707.76111975, 853.07999399, 815.75645299,\n",
              "       810.22856321, 789.76868279, 596.99588833, 778.29256072,\n",
              "       726.11521395, 783.16362902, 678.24145855, 786.73112216,\n",
              "       860.59372376, 807.93869307, 645.75226537, 674.58730774,\n",
              "       676.55685713, 600.87806988, 748.45666508, 707.94152039,\n",
              "       702.31503975, 709.84347503, 719.91181873, 696.00201131,\n",
              "       864.99239886, 722.29859035, 706.69766934, 769.95406197,\n",
              "       720.0616741 , 739.79250009, 648.53207568, 593.98330839,\n",
              "       711.85930203, 525.68221596, 688.89675483, 781.15513501,\n",
              "       700.43652481, 816.36576568, 767.04835151, 761.82006852,\n",
              "       842.64040339, 744.86856771, 746.08420915, 728.0685637 ,\n",
              "       742.37461618, 633.54340206, 719.37408737, 732.32903314,\n",
              "       700.13554025, 711.83543503, 720.01421938, 731.07487421,\n",
              "       783.28935854, 735.78422574, 707.61156119, 794.77799065,\n",
              "       619.67065033, 672.73431859, 604.86043672, 826.39149065,\n",
              "       795.66012946, 763.25244073, 725.47767142, 761.69289994,\n",
              "       695.56243587, 788.10292225, 696.25371178, 637.62157285,\n",
              "       746.05837515, 697.43355899, 683.48718757, 721.3236182 ,\n",
              "       640.17683708, 677.72363759, 767.17766963, 780.43463668,\n",
              "       735.43356158, 722.52685795, 624.39972579, 721.51805391,\n",
              "       789.20806404, 703.18083168, 758.10528541, 634.96772107,\n",
              "       706.92953444, 751.20984467, 616.76614237, 760.71576318,\n",
              "       654.74627506, 800.3683502 , 741.49458376, 753.14833262])"
            ]
          },
          "metadata": {},
          "execution_count": 10
        }
      ]
    },
    {
      "cell_type": "markdown",
      "source": [
        "#3. Progenitors selection\n",
        "I will select a new set of progenitors using the Roulette Wheel Selection. Generates a list of progenitor pairs where N= len(population_set) but at each position there are two solutions to merge"
      ],
      "metadata": {
        "id": "Z-C7atu1G2cj"
      }
    },
    {
      "cell_type": "code",
      "source": [
        "def progenitor_selection(population_set,fitnes_list):\n",
        "    total_fit = fitnes_list.sum()\n",
        "    prob_list = fitnes_list/total_fit\n",
        "    \n",
        "    #Notice there is the chance that a progenitor. mates with oneself\n",
        "    progenitor_list_a = np.random.choice(list(range(len(population_set))), len(population_set),p=prob_list, replace=True)\n",
        "    progenitor_list_b = np.random.choice(list(range(len(population_set))), len(population_set),p=prob_list, replace=True)\n",
        "    \n",
        "    progenitor_list_a = population_set[progenitor_list_a]\n",
        "    progenitor_list_b = population_set[progenitor_list_b]\n",
        "    \n",
        "    \n",
        "    return np.array([progenitor_list_a,progenitor_list_b])\n",
        "\n",
        "\n",
        "progenitor_list = progenitor_selection(population_set,fitnes_list)\n",
        "progenitor_list[0][2]\n"
      ],
      "metadata": {
        "colab": {
          "base_uri": "https://localhost:8080/"
        },
        "id": "rkxGAmiYGugd",
        "outputId": "b34c9e65-ce76-4a4a-e5d6-755ce830cb9c"
      },
      "execution_count": null,
      "outputs": [
        {
          "output_type": "execute_result",
          "data": {
            "text/plain": [
              "array(['Tozeur', 'Kasserine', 'Ariana', 'Beja', 'Kef', 'Bizerte', 'Tunis',\n",
              "       'Mahdia', 'Gafsa', 'Sousse', 'Kairouan', 'Ben Arous', 'Sfax',\n",
              "       'Nabeul', 'Manouba'], dtype='<U9')"
            ]
          },
          "metadata": {},
          "execution_count": 11
        }
      ]
    },
    {
      "cell_type": "markdown",
      "source": [
        "#4. Mating\n",
        "For each pair of parents we'll generate an offspring pair. Since we cannot repeat cities what we'll do is copy a random chunk from one progenitor and fill the blanks with the other progenitor."
      ],
      "metadata": {
        "id": "aKVWGvLQG9n1"
      }
    },
    {
      "cell_type": "code",
      "source": [
        "def mate_progenitors(prog_a, prog_b):\n",
        "    offspring = prog_a[0:5]\n",
        "\n",
        "    for city in prog_b:\n",
        "\n",
        "        if not city in offspring:\n",
        "            offspring = np.concatenate((offspring,[city]))\n",
        "\n",
        "    return offspring\n",
        "            \n",
        "    \n",
        "    \n",
        "def mate_population(progenitor_list):\n",
        "    new_population_set = []\n",
        "    for i in range(progenitor_list.shape[1]):\n",
        "        prog_a, prog_b = progenitor_list[0][i], progenitor_list[1][i]\n",
        "        offspring = mate_progenitors(prog_a, prog_b)\n",
        "        new_population_set.append(offspring)\n",
        "        \n",
        "    return new_population_set\n",
        "\n",
        "new_population_set = mate_population(progenitor_list)\n",
        "new_population_set[0]"
      ],
      "metadata": {
        "colab": {
          "base_uri": "https://localhost:8080/"
        },
        "id": "VbRGuCnVHAgw",
        "outputId": "19ba5572-bb44-45ad-fc89-169f56a0a9a5"
      },
      "execution_count": null,
      "outputs": [
        {
          "output_type": "execute_result",
          "data": {
            "text/plain": [
              "array(['Mahdia', 'Kairouan', 'Tunis', 'Ben Arous', 'Tozeur', 'Kasserine',\n",
              "       'Manouba', 'Bizerte', 'Kef', 'Sfax', 'Sousse', 'Beja', 'Gafsa',\n",
              "       'Ariana', 'Nabeul'], dtype='<U9')"
            ]
          },
          "metadata": {},
          "execution_count": 12
        }
      ]
    },
    {
      "cell_type": "markdown",
      "source": [
        "#5. Mutation\n",
        "Now for each element of the new population we add a random chance of swapping"
      ],
      "metadata": {
        "id": "0l1hqaV9HESi"
      }
    },
    {
      "cell_type": "code",
      "source": [
        "def mutate_offspring(offspring):\n",
        "    for q in range(int(n_cities*mutation_rate)):\n",
        "        a = np.random.randint(0,n_cities)\n",
        "        b = np.random.randint(0,n_cities)\n",
        "\n",
        "        offspring[a], offspring[b] = offspring[b], offspring[a]\n",
        "\n",
        "    return offspring\n",
        "    \n",
        "    \n",
        "def mutate_population(new_population_set):\n",
        "    mutated_pop = []\n",
        "    for offspring in new_population_set:\n",
        "        mutated_pop.append(mutate_offspring(offspring))\n",
        "    return mutated_pop\n",
        "\n",
        "mutated_pop = mutate_population(new_population_set)\n",
        "mutated_pop[0]\n"
      ],
      "metadata": {
        "colab": {
          "base_uri": "https://localhost:8080/"
        },
        "id": "XzkMiFsTHHpo",
        "outputId": "9b3d83f3-f1d6-4cd1-9ca8-364fcb6261fb"
      },
      "execution_count": null,
      "outputs": [
        {
          "output_type": "execute_result",
          "data": {
            "text/plain": [
              "array(['Nabeul', 'Kairouan', 'Sfax', 'Ben Arous', 'Kasserine', 'Tozeur',\n",
              "       'Manouba', 'Bizerte', 'Kef', 'Tunis', 'Sousse', 'Gafsa', 'Beja',\n",
              "       'Ariana', 'Mahdia'], dtype='<U9')"
            ]
          },
          "metadata": {},
          "execution_count": 13
        }
      ]
    },
    {
      "cell_type": "markdown",
      "source": [
        "#6. Stopping\n",
        "To select the stopping criteria we'll need to create a loop to stop first. Then I'll set it to loop at 10000 iterations."
      ],
      "metadata": {
        "id": "7UKb0cfTHKmL"
      }
    },
    {
      "cell_type": "code",
      "source": [
        "best_solution = [-1,np.inf,np.array([])]\n",
        "for i in range(10000):\n",
        "    if i%100==0: print(i, fitnes_list.min(), fitnes_list.mean(), datetime.now().strftime(\"%d/%m/%y %H:%M\"))\n",
        "    fitnes_list = get_all_fitnes(mutated_pop,cities_dict)\n",
        "    \n",
        "    #Saving the best solution\n",
        "    if fitnes_list.min() < best_solution[1]:\n",
        "        best_solution[0] = i\n",
        "        best_solution[1] = fitnes_list.min()\n",
        "        best_solution[2] = np.array(mutated_pop)[fitnes_list.min() == fitnes_list]\n",
        "    \n",
        "    progenitor_list = progenitor_selection(population_set,fitnes_list)\n",
        "    new_population_set = mate_population(progenitor_list)\n",
        "    \n",
        "    mutated_pop = mutate_population(new_population_set)\n"
      ],
      "metadata": {
        "colab": {
          "base_uri": "https://localhost:8080/"
        },
        "id": "OzuuzvpHHNy3",
        "outputId": "178db047-d67a-4713-b32e-cd5db9def7fc"
      },
      "execution_count": null,
      "outputs": [
        {
          "output_type": "stream",
          "name": "stdout",
          "text": [
            "0 525.6822159580023 722.902615483435 12/12/22 11:34\n",
            "100 538.852342713441 717.3652411482736 12/12/22 11:34\n",
            "200 534.5553394802545 713.608700180147 12/12/22 11:34\n",
            "300 570.3041619233801 711.7379566336995 12/12/22 11:34\n",
            "400 561.6437461159258 711.1218816583846 12/12/22 11:34\n",
            "500 574.4317226330434 717.0975028104907 12/12/22 11:34\n",
            "600 558.2151750492055 716.4971001515162 12/12/22 11:34\n",
            "700 523.6283213121716 709.2762798391351 12/12/22 11:34\n",
            "800 538.7428413998803 716.0636929962411 12/12/22 11:34\n",
            "900 513.7408138084168 714.4142044235938 12/12/22 11:34\n",
            "1000 517.1113820221468 718.807234158924 12/12/22 11:34\n",
            "1100 490.5602938249689 722.1423253538092 12/12/22 11:34\n",
            "1200 532.2660777573178 722.8056265360439 12/12/22 11:34\n",
            "1300 544.938812045723 724.1223681967813 12/12/22 11:34\n",
            "1400 589.2122608604859 727.6646589819469 12/12/22 11:34\n",
            "1500 558.3024409348785 724.6642926425833 12/12/22 11:34\n",
            "1600 537.3688977924331 705.7589866087576 12/12/22 11:34\n",
            "1700 575.4379298571597 724.1015320433472 12/12/22 11:34\n",
            "1800 535.9766154365291 729.4373867056985 12/12/22 11:34\n",
            "1900 558.956547528918 727.4083824223344 12/12/22 11:34\n",
            "2000 531.3009215263384 717.4334045253377 12/12/22 11:34\n",
            "2100 524.3066001696508 727.0009712980743 12/12/22 11:34\n",
            "2200 537.0730365022446 706.2676566125597 12/12/22 11:34\n",
            "2300 576.7659535398831 721.7745522084385 12/12/22 11:34\n",
            "2400 547.6262830181946 719.3741189517076 12/12/22 11:34\n",
            "2500 505.83540547319257 711.2158843234604 12/12/22 11:34\n",
            "2600 515.7261208577638 709.1335673587217 12/12/22 11:34\n",
            "2700 490.89845112588205 710.8500245568101 12/12/22 11:34\n",
            "2800 531.4047860662495 720.7147730123 12/12/22 11:34\n",
            "2900 570.4952527210564 733.7236763284853 12/12/22 11:34\n",
            "3000 577.9596536847303 714.5810913157553 12/12/22 11:35\n",
            "3100 521.3758716441056 716.4965879050417 12/12/22 11:35\n",
            "3200 549.1308060021457 711.0038369154867 12/12/22 11:35\n",
            "3300 532.8354201395896 709.5907075503112 12/12/22 11:35\n",
            "3400 518.114203514319 723.5059286502844 12/12/22 11:35\n",
            "3500 531.4040787682779 710.6106021061828 12/12/22 11:35\n",
            "3600 556.0474651479954 715.8866308607229 12/12/22 11:35\n",
            "3700 556.5498790717186 721.0936405047698 12/12/22 11:35\n",
            "3800 543.8073282779342 720.3597256396529 12/12/22 11:35\n",
            "3900 558.2660193910693 718.047468840567 12/12/22 11:35\n",
            "4000 523.7129164645571 717.3550588271308 12/12/22 11:35\n",
            "4100 588.4099973804301 724.8428195715497 12/12/22 11:35\n",
            "4200 496.4443327911555 714.447900354453 12/12/22 11:35\n",
            "4300 576.9314008562691 733.0241668226918 12/12/22 11:35\n",
            "4400 560.1493486200004 713.782453864655 12/12/22 11:35\n",
            "4500 530.5001956064106 719.7862129673263 12/12/22 11:35\n",
            "4600 558.0020542173631 730.908694862792 12/12/22 11:35\n",
            "4700 476.5939242513838 711.212461069764 12/12/22 11:35\n",
            "4800 553.9519618220814 734.8019110615902 12/12/22 11:35\n",
            "4900 583.4466377815837 724.7712222774599 12/12/22 11:35\n",
            "5000 539.9856872163547 721.6415833433298 12/12/22 11:35\n",
            "5100 594.0986794479784 736.1625179910537 12/12/22 11:35\n",
            "5200 551.1230340069903 709.7864389213825 12/12/22 11:35\n",
            "5300 459.03149851167836 720.824041684519 12/12/22 11:35\n",
            "5400 527.203102459019 725.065285185093 12/12/22 11:35\n",
            "5500 561.2351962255459 715.3667044400567 12/12/22 11:35\n",
            "5600 498.7607528498495 728.5556918965466 12/12/22 11:35\n",
            "5700 473.70917657453356 713.7266619035992 12/12/22 11:35\n",
            "5800 558.7368327437455 727.6708970401472 12/12/22 11:35\n",
            "5900 499.59176132143716 719.3511390137802 12/12/22 11:35\n",
            "6000 515.6931898840269 707.2890408811942 12/12/22 11:35\n",
            "6100 563.6270224466094 718.5349263167653 12/12/22 11:36\n",
            "6200 598.7943739862667 728.6942929958476 12/12/22 11:36\n",
            "6300 453.21205505002047 715.778042460419 12/12/22 11:36\n",
            "6400 552.0797973923416 715.5955586790172 12/12/22 11:36\n",
            "6500 556.514273785984 722.8035976138293 12/12/22 11:36\n",
            "6600 563.2959510713989 716.4912770741627 12/12/22 11:36\n",
            "6700 547.3320011971867 713.0652838396669 12/12/22 11:36\n",
            "6800 555.1719130068188 708.9487367113097 12/12/22 11:36\n",
            "6900 536.6992277221423 703.4641360648351 12/12/22 11:36\n",
            "7000 533.9246897531783 723.0598474352053 12/12/22 11:36\n",
            "7100 581.009683495821 709.949825612035 12/12/22 11:36\n",
            "7200 556.314586595768 725.9710111728306 12/12/22 11:36\n",
            "7300 550.7479907285538 720.010117463433 12/12/22 11:36\n",
            "7400 548.0367588095986 718.223835027181 12/12/22 11:36\n",
            "7500 573.3501215017501 724.8608248204052 12/12/22 11:36\n",
            "7600 538.0516518417934 723.5669886570487 12/12/22 11:36\n",
            "7700 579.2208164669238 716.0884270469292 12/12/22 11:36\n",
            "7800 540.2087741328057 717.3265176741063 12/12/22 11:36\n",
            "7900 557.525410084211 717.2876824988383 12/12/22 11:36\n",
            "8000 562.5862310380807 732.8096557396282 12/12/22 11:36\n",
            "8100 496.45721477578587 708.6374190709585 12/12/22 11:36\n",
            "8200 522.718787742767 711.37154782857 12/12/22 11:36\n",
            "8300 576.0565000594854 712.4842493884541 12/12/22 11:36\n",
            "8400 550.3784447071106 722.6669707731195 12/12/22 11:36\n",
            "8500 531.7875345584331 714.8984420801339 12/12/22 11:36\n",
            "8600 532.9827972894427 714.3949346916417 12/12/22 11:36\n",
            "8700 558.494837633086 734.9407327923957 12/12/22 11:36\n",
            "8800 563.4587584396855 715.9344568562182 12/12/22 11:36\n",
            "8900 527.823594808437 710.5306088279185 12/12/22 11:36\n",
            "9000 547.0751410956814 724.1258483177749 12/12/22 11:36\n",
            "9100 559.6190864828764 728.5500288942839 12/12/22 11:37\n",
            "9200 472.62126605746505 722.2830236622419 12/12/22 11:37\n",
            "9300 538.0074801041086 713.6320174188446 12/12/22 11:37\n",
            "9400 560.3345133570942 733.1827421976548 12/12/22 11:37\n",
            "9500 532.5376960858675 718.5025172037184 12/12/22 11:37\n",
            "9600 590.2336802615499 721.0176421531322 12/12/22 11:37\n",
            "9700 538.4483532801535 733.2006967397298 12/12/22 11:37\n",
            "9800 523.6839875515625 713.6169378873637 12/12/22 11:37\n",
            "9900 561.1314982873241 738.7140130041557 12/12/22 11:37\n"
          ]
        }
      ]
    },
    {
      "cell_type": "code",
      "source": [
        "best_solution"
      ],
      "metadata": {
        "colab": {
          "base_uri": "https://localhost:8080/"
        },
        "id": "vi1gReqsIO-b",
        "outputId": "ce9cb143-a1b3-4944-aa35-a9aee7e485f4"
      },
      "execution_count": null,
      "outputs": [
        {
          "output_type": "execute_result",
          "data": {
            "text/plain": [
              "[1868,\n",
              " 388.0647501477296,\n",
              " array([['Bizerte', 'Sousse', 'Kairouan', 'Gafsa', 'Tozeur', 'Tunis',\n",
              "         'Beja', 'Ben Arous', 'Sfax', 'Mahdia', 'Kasserine', 'Ariana',\n",
              "         'Nabeul', 'Manouba', 'Kef']], dtype='<U9')]"
            ]
          },
          "metadata": {},
          "execution_count": 15
        }
      ]
    },
    {
      "cell_type": "markdown",
      "source": [
        "so the best solution is <br>\n",
        "bizerte -> sousse -> kairaouan -> gafsa -> touzeur -> tunis -> beja -> ben arous -> sfax -> mahdia -> kasserine -> ariana -> nabeul -> manouba -> kef - > bizerte."
      ],
      "metadata": {
        "id": "BkkD5hGeIcKz"
      }
    },
    {
      "cell_type": "code",
      "source": [],
      "metadata": {
        "id": "ktSVd8T3I1NZ"
      },
      "execution_count": null,
      "outputs": []
    }
  ]
}